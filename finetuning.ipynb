{
 "cells": [
  {
   "cell_type": "code",
   "execution_count": 20,
   "id": "e73fce81-3ef5-4f56-863d-a9ced82a5f06",
   "metadata": {},
   "outputs": [],
   "source": [
    "# imports\n",
    "import os\n",
    "from os.path import join\n",
    "import numpy as np\n",
    "import pandas as pd\n",
    "import json\n",
    "import librosa\n",
    "from pathlib import Path\n",
    "import yaml\n",
    "from tqdm import tqdm\n",
    "import pickle\n",
    "from datasets import Dataset, DatasetDict"
   ]
  },
  {
   "cell_type": "code",
   "execution_count": 21,
   "id": "96a6e53e-d81a-4c95-bf97-05d31cb921fa",
   "metadata": {},
   "outputs": [],
   "source": [
    "# load the pickle data file\n",
    "with open('./pkl/magister_data_flac_16000_train.pkl', 'rb') as f:\n",
    "    df_train = pickle.load(f)\n",
    "\n",
    "with open('./pkl/magister_data_flac_16000_dev.pkl', 'rb') as f:\n",
    "    df_dev = pickle.load(f)"
   ]
  },
  {
   "cell_type": "code",
   "execution_count": 22,
   "id": "0986b73e-d24c-4d76-ad71-5180254cc1d4",
   "metadata": {},
   "outputs": [
    {
     "data": {
      "text/html": [
       "<div>\n",
       "<style scoped>\n",
       "    .dataframe tbody tr th:only-of-type {\n",
       "        vertical-align: middle;\n",
       "    }\n",
       "\n",
       "    .dataframe tbody tr th {\n",
       "        vertical-align: top;\n",
       "    }\n",
       "\n",
       "    .dataframe thead th {\n",
       "        text-align: right;\n",
       "    }\n",
       "</style>\n",
       "<table border=\"1\" class=\"dataframe\">\n",
       "  <thead>\n",
       "    <tr style=\"text-align: right;\">\n",
       "      <th></th>\n",
       "      <th>file</th>\n",
       "      <th>audio</th>\n",
       "      <th>text</th>\n",
       "    </tr>\n",
       "  </thead>\n",
       "  <tbody>\n",
       "    <tr>\n",
       "      <th>0</th>\n",
       "      <td>./datasets/magister_data_flac_16000_finetune/t...</td>\n",
       "      <td>{'array': [-0.00091552734, -0.0007324219, -0.0...</td>\n",
       "      <td>FCS GUNNERY BROADCAST POLICY SURFACE AND AIR F...</td>\n",
       "    </tr>\n",
       "    <tr>\n",
       "      <th>1</th>\n",
       "      <td>./datasets/magister_data_flac_16000_finetune/t...</td>\n",
       "      <td>{'array': [-0.00012207031, 0.00018310547, 0.00...</td>\n",
       "      <td>ROGER</td>\n",
       "    </tr>\n",
       "    <tr>\n",
       "      <th>2</th>\n",
       "      <td>./datasets/magister_data_flac_16000_finetune/t...</td>\n",
       "      <td>{'array': [0.0077209473, 0.009490967, 0.011291...</td>\n",
       "      <td>AGUN ENGAGE MISSILE NORTH AT TWO MILES</td>\n",
       "    </tr>\n",
       "    <tr>\n",
       "      <th>3</th>\n",
       "      <td>./datasets/magister_data_flac_16000_finetune/t...</td>\n",
       "      <td>{'array': [-0.0057373047, -0.0053100586, -0.00...</td>\n",
       "      <td>G P M G PROVIDE ONE BOX TWO FIVE ZERO ROUNDS L...</td>\n",
       "    </tr>\n",
       "    <tr>\n",
       "      <th>4</th>\n",
       "      <td>./datasets/magister_data_flac_16000_finetune/t...</td>\n",
       "      <td>{'array': [3.0517578e-05, -3.0517578e-05, -6.1...</td>\n",
       "      <td>OOW COME LEFT ZERO TWO ZERO INCREASE ONE TWO OOW</td>\n",
       "    </tr>\n",
       "  </tbody>\n",
       "</table>\n",
       "</div>"
      ],
      "text/plain": [
       "                                                file  \\\n",
       "0  ./datasets/magister_data_flac_16000_finetune/t...   \n",
       "1  ./datasets/magister_data_flac_16000_finetune/t...   \n",
       "2  ./datasets/magister_data_flac_16000_finetune/t...   \n",
       "3  ./datasets/magister_data_flac_16000_finetune/t...   \n",
       "4  ./datasets/magister_data_flac_16000_finetune/t...   \n",
       "\n",
       "                                               audio  \\\n",
       "0  {'array': [-0.00091552734, -0.0007324219, -0.0...   \n",
       "1  {'array': [-0.00012207031, 0.00018310547, 0.00...   \n",
       "2  {'array': [0.0077209473, 0.009490967, 0.011291...   \n",
       "3  {'array': [-0.0057373047, -0.0053100586, -0.00...   \n",
       "4  {'array': [3.0517578e-05, -3.0517578e-05, -6.1...   \n",
       "\n",
       "                                                text  \n",
       "0  FCS GUNNERY BROADCAST POLICY SURFACE AND AIR F...  \n",
       "1                                              ROGER  \n",
       "2             AGUN ENGAGE MISSILE NORTH AT TWO MILES  \n",
       "3  G P M G PROVIDE ONE BOX TWO FIVE ZERO ROUNDS L...  \n",
       "4   OOW COME LEFT ZERO TWO ZERO INCREASE ONE TWO OOW  "
      ]
     },
     "execution_count": 22,
     "metadata": {},
     "output_type": "execute_result"
    }
   ],
   "source": [
    "df_train.head()"
   ]
  },
  {
   "cell_type": "code",
   "execution_count": 23,
   "id": "2d37cfe3-c402-4055-88a3-4229162a84bf",
   "metadata": {},
   "outputs": [
    {
     "data": {
      "text/html": [
       "<div>\n",
       "<style scoped>\n",
       "    .dataframe tbody tr th:only-of-type {\n",
       "        vertical-align: middle;\n",
       "    }\n",
       "\n",
       "    .dataframe tbody tr th {\n",
       "        vertical-align: top;\n",
       "    }\n",
       "\n",
       "    .dataframe thead th {\n",
       "        text-align: right;\n",
       "    }\n",
       "</style>\n",
       "<table border=\"1\" class=\"dataframe\">\n",
       "  <thead>\n",
       "    <tr style=\"text-align: right;\">\n",
       "      <th></th>\n",
       "      <th>file</th>\n",
       "      <th>audio</th>\n",
       "      <th>text</th>\n",
       "    </tr>\n",
       "  </thead>\n",
       "  <tbody>\n",
       "    <tr>\n",
       "      <th>0</th>\n",
       "      <td>./datasets/magister_data_flac_16000_finetune/d...</td>\n",
       "      <td>{'array': [0.01727295, 0.01184082, 0.006408691...</td>\n",
       "      <td>FOXTROT ONE DELTA THIS IS ALFA FOUR QUEBEC SHO...</td>\n",
       "    </tr>\n",
       "    <tr>\n",
       "      <th>1</th>\n",
       "      <td>./datasets/magister_data_flac_16000_finetune/d...</td>\n",
       "      <td>{'array': [0.0015258789, 0.001159668, 0.000793...</td>\n",
       "      <td>FOXTROT ONE DELTA THIS IS ALFA FOUR QUEBEC SHO...</td>\n",
       "    </tr>\n",
       "    <tr>\n",
       "      <th>2</th>\n",
       "      <td>./datasets/magister_data_flac_16000_finetune/d...</td>\n",
       "      <td>{'array': [0.005645752, 0.004852295, 0.0040588...</td>\n",
       "      <td>ALFA FOUR QUEBEC &amp; POSITIONING &amp; FOR P A C RUN...</td>\n",
       "    </tr>\n",
       "    <tr>\n",
       "      <th>3</th>\n",
       "      <td>./datasets/magister_data_flac_16000_finetune/d...</td>\n",
       "      <td>{'array': [0.001739502, 0.0017700195, 0.001831...</td>\n",
       "      <td>ALL IN THIS IS PWO INTEND CONTINUES FIRING NO ...</td>\n",
       "    </tr>\n",
       "    <tr>\n",
       "      <th>4</th>\n",
       "      <td>./datasets/magister_data_flac_16000_finetune/d...</td>\n",
       "      <td>{'array': [0.0011291504, 0.0005493164, 0.0, 0....</td>\n",
       "      <td>FOXTROT ONE DELTA THIS IS ALFA FOUR QUEBEC COM...</td>\n",
       "    </tr>\n",
       "  </tbody>\n",
       "</table>\n",
       "</div>"
      ],
      "text/plain": [
       "                                                file  \\\n",
       "0  ./datasets/magister_data_flac_16000_finetune/d...   \n",
       "1  ./datasets/magister_data_flac_16000_finetune/d...   \n",
       "2  ./datasets/magister_data_flac_16000_finetune/d...   \n",
       "3  ./datasets/magister_data_flac_16000_finetune/d...   \n",
       "4  ./datasets/magister_data_flac_16000_finetune/d...   \n",
       "\n",
       "                                               audio  \\\n",
       "0  {'array': [0.01727295, 0.01184082, 0.006408691...   \n",
       "1  {'array': [0.0015258789, 0.001159668, 0.000793...   \n",
       "2  {'array': [0.005645752, 0.004852295, 0.0040588...   \n",
       "3  {'array': [0.001739502, 0.0017700195, 0.001831...   \n",
       "4  {'array': [0.0011291504, 0.0005493164, 0.0, 0....   \n",
       "\n",
       "                                                text  \n",
       "0  FOXTROT ONE DELTA THIS IS ALFA FOUR QUEBEC SHO...  \n",
       "1  FOXTROT ONE DELTA THIS IS ALFA FOUR QUEBEC SHO...  \n",
       "2  ALFA FOUR QUEBEC & POSITIONING & FOR P A C RUN...  \n",
       "3  ALL IN THIS IS PWO INTEND CONTINUES FIRING NO ...  \n",
       "4  FOXTROT ONE DELTA THIS IS ALFA FOUR QUEBEC COM...  "
      ]
     },
     "execution_count": 23,
     "metadata": {},
     "output_type": "execute_result"
    }
   ],
   "source": [
    "df_dev.head()"
   ]
  },
  {
   "cell_type": "code",
   "execution_count": null,
   "id": "1e5ac00d-acd2-454c-8189-9c3e1b5c8d2e",
   "metadata": {},
   "outputs": [],
   "source": []
  },
  {
   "cell_type": "code",
   "execution_count": null,
   "id": "efc5b595-9f2e-4409-aff4-93ba72fa83d6",
   "metadata": {},
   "outputs": [],
   "source": [
    "# from now on load the data from the pickle file and not from the dataset class from huggingface"
   ]
  }
 ],
 "metadata": {
  "kernelspec": {
   "display_name": "Python 3 (ipykernel)",
   "language": "python",
   "name": "python3"
  },
  "language_info": {
   "codemirror_mode": {
    "name": "ipython",
    "version": 3
   },
   "file_extension": ".py",
   "mimetype": "text/x-python",
   "name": "python",
   "nbconvert_exporter": "python",
   "pygments_lexer": "ipython3",
   "version": "3.7.11"
  }
 },
 "nbformat": 4,
 "nbformat_minor": 5
}
