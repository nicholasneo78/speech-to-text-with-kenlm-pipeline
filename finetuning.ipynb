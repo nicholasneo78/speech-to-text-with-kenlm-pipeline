{
 "cells": [
  {
   "cell_type": "code",
   "execution_count": 1,
   "id": "e73fce81-3ef5-4f56-863d-a9ced82a5f06",
   "metadata": {},
   "outputs": [],
   "source": [
    "# imports\n",
    "import os\n",
    "from os.path import join\n",
    "import numpy as np\n",
    "import pandas as pd\n",
    "import json\n",
    "import librosa\n",
    "from pathlib import Path\n",
    "import yaml\n",
    "from tqdm import tqdm\n",
    "import pickle\n",
    "import matplotlib.pyplot as plt\n",
    "\n",
    "import torch\n",
    "from datasets import Dataset, DatasetDict\n",
    "from transformers import Wav2Vec2FeatureExtractor, Wav2Vec2Processor"
   ]
  },
  {
   "cell_type": "code",
   "execution_count": 2,
   "id": "e5790263-8ad5-4eb6-a305-96ebba4cc5b1",
   "metadata": {},
   "outputs": [
    {
     "data": {
      "text/plain": [
       "True"
      ]
     },
     "execution_count": 2,
     "metadata": {},
     "output_type": "execute_result"
    }
   ],
   "source": [
    "torch.cuda.is_available()"
   ]
  },
  {
   "cell_type": "markdown",
   "id": "459ce5a5-6940-4031-aa2b-7bb8bd8a3a03",
   "metadata": {},
   "source": [
    "## Prepare data and tokenizer"
   ]
  },
  {
   "cell_type": "code",
   "execution_count": 3,
   "id": "96a6e53e-d81a-4c95-bf97-05d31cb921fa",
   "metadata": {},
   "outputs": [],
   "source": [
    "# load the pickle data file\n",
    "with open('./pkl/magister_data_flac_16000_train.pkl', 'rb') as f:\n",
    "    df_train = pickle.load(f)\n",
    "\n",
    "with open('./pkl/magister_data_flac_16000_dev.pkl', 'rb') as f:\n",
    "    df_dev = pickle.load(f)"
   ]
  },
  {
   "cell_type": "code",
   "execution_count": 4,
   "id": "0986b73e-d24c-4d76-ad71-5180254cc1d4",
   "metadata": {},
   "outputs": [
    {
     "data": {
      "text/html": [
       "<div>\n",
       "<style scoped>\n",
       "    .dataframe tbody tr th:only-of-type {\n",
       "        vertical-align: middle;\n",
       "    }\n",
       "\n",
       "    .dataframe tbody tr th {\n",
       "        vertical-align: top;\n",
       "    }\n",
       "\n",
       "    .dataframe thead th {\n",
       "        text-align: right;\n",
       "    }\n",
       "</style>\n",
       "<table border=\"1\" class=\"dataframe\">\n",
       "  <thead>\n",
       "    <tr style=\"text-align: right;\">\n",
       "      <th></th>\n",
       "      <th>file</th>\n",
       "      <th>audio</th>\n",
       "      <th>text</th>\n",
       "    </tr>\n",
       "  </thead>\n",
       "  <tbody>\n",
       "    <tr>\n",
       "      <th>0</th>\n",
       "      <td>./datasets/magister_data_flac_16000_finetune/t...</td>\n",
       "      <td>{'array': [-0.00091552734, -0.0007324219, -0.0...</td>\n",
       "      <td>FCS GUNNERY BROADCAST POLICY SURFACE AND AIR F...</td>\n",
       "    </tr>\n",
       "    <tr>\n",
       "      <th>1</th>\n",
       "      <td>./datasets/magister_data_flac_16000_finetune/t...</td>\n",
       "      <td>{'array': [-0.00012207031, 0.00018310547, 0.00...</td>\n",
       "      <td>ROGER</td>\n",
       "    </tr>\n",
       "    <tr>\n",
       "      <th>2</th>\n",
       "      <td>./datasets/magister_data_flac_16000_finetune/t...</td>\n",
       "      <td>{'array': [0.0077209473, 0.009490967, 0.011291...</td>\n",
       "      <td>AGUN ENGAGE MISSILE NORTH AT TWO MILES</td>\n",
       "    </tr>\n",
       "    <tr>\n",
       "      <th>3</th>\n",
       "      <td>./datasets/magister_data_flac_16000_finetune/t...</td>\n",
       "      <td>{'array': [-0.0057373047, -0.0053100586, -0.00...</td>\n",
       "      <td>G P M G PROVIDE ONE BOX TWO FIVE ZERO ROUNDS L...</td>\n",
       "    </tr>\n",
       "    <tr>\n",
       "      <th>4</th>\n",
       "      <td>./datasets/magister_data_flac_16000_finetune/t...</td>\n",
       "      <td>{'array': [3.0517578e-05, -3.0517578e-05, -6.1...</td>\n",
       "      <td>OOW COME LEFT ZERO TWO ZERO INCREASE ONE TWO OOW</td>\n",
       "    </tr>\n",
       "    <tr>\n",
       "      <th>...</th>\n",
       "      <td>...</td>\n",
       "      <td>...</td>\n",
       "      <td>...</td>\n",
       "    </tr>\n",
       "    <tr>\n",
       "      <th>1813</th>\n",
       "      <td>./datasets/magister_data_flac_16000_finetune/t...</td>\n",
       "      <td>{'array': [0.008239746, 0.011108398, 0.0139770...</td>\n",
       "      <td>TPS PWO CHECK COPY</td>\n",
       "    </tr>\n",
       "    <tr>\n",
       "      <th>1814</th>\n",
       "      <td>./datasets/magister_data_flac_16000_finetune/t...</td>\n",
       "      <td>{'array': [0.0015563965, 0.0008544922, 0.00015...</td>\n",
       "      <td>AND FIRE ON PAC TARGET ZERO ZERO FOUR NINE K A...</td>\n",
       "    </tr>\n",
       "    <tr>\n",
       "      <th>1815</th>\n",
       "      <td>./datasets/magister_data_flac_16000_finetune/t...</td>\n",
       "      <td>{'array': [0.2989502, 0.3025818, 0.3062439, 0....</td>\n",
       "      <td># OW PWO COME LEFT TWO NINE ZERO WEPS THIS PWO...</td>\n",
       "    </tr>\n",
       "    <tr>\n",
       "      <th>1816</th>\n",
       "      <td>./datasets/magister_data_flac_16000_finetune/t...</td>\n",
       "      <td>{'array': [3.0517578e-05, -0.00024414062, -0.0...</td>\n",
       "      <td># ALL STATION # THIS PWO MISSIONS BRIEF AS FOL...</td>\n",
       "    </tr>\n",
       "    <tr>\n",
       "      <th>1817</th>\n",
       "      <td>./datasets/magister_data_flac_16000_finetune/t...</td>\n",
       "      <td>{'array': [0.04800415, -0.047058105, -0.142120...</td>\n",
       "      <td>REQUEST PERMISSION TO PROVIDE FIVE TP ROUND CO...</td>\n",
       "    </tr>\n",
       "  </tbody>\n",
       "</table>\n",
       "<p>1818 rows × 3 columns</p>\n",
       "</div>"
      ],
      "text/plain": [
       "                                                   file  \\\n",
       "0     ./datasets/magister_data_flac_16000_finetune/t...   \n",
       "1     ./datasets/magister_data_flac_16000_finetune/t...   \n",
       "2     ./datasets/magister_data_flac_16000_finetune/t...   \n",
       "3     ./datasets/magister_data_flac_16000_finetune/t...   \n",
       "4     ./datasets/magister_data_flac_16000_finetune/t...   \n",
       "...                                                 ...   \n",
       "1813  ./datasets/magister_data_flac_16000_finetune/t...   \n",
       "1814  ./datasets/magister_data_flac_16000_finetune/t...   \n",
       "1815  ./datasets/magister_data_flac_16000_finetune/t...   \n",
       "1816  ./datasets/magister_data_flac_16000_finetune/t...   \n",
       "1817  ./datasets/magister_data_flac_16000_finetune/t...   \n",
       "\n",
       "                                                  audio  \\\n",
       "0     {'array': [-0.00091552734, -0.0007324219, -0.0...   \n",
       "1     {'array': [-0.00012207031, 0.00018310547, 0.00...   \n",
       "2     {'array': [0.0077209473, 0.009490967, 0.011291...   \n",
       "3     {'array': [-0.0057373047, -0.0053100586, -0.00...   \n",
       "4     {'array': [3.0517578e-05, -3.0517578e-05, -6.1...   \n",
       "...                                                 ...   \n",
       "1813  {'array': [0.008239746, 0.011108398, 0.0139770...   \n",
       "1814  {'array': [0.0015563965, 0.0008544922, 0.00015...   \n",
       "1815  {'array': [0.2989502, 0.3025818, 0.3062439, 0....   \n",
       "1816  {'array': [3.0517578e-05, -0.00024414062, -0.0...   \n",
       "1817  {'array': [0.04800415, -0.047058105, -0.142120...   \n",
       "\n",
       "                                                   text  \n",
       "0     FCS GUNNERY BROADCAST POLICY SURFACE AND AIR F...  \n",
       "1                                                 ROGER  \n",
       "2                AGUN ENGAGE MISSILE NORTH AT TWO MILES  \n",
       "3     G P M G PROVIDE ONE BOX TWO FIVE ZERO ROUNDS L...  \n",
       "4      OOW COME LEFT ZERO TWO ZERO INCREASE ONE TWO OOW  \n",
       "...                                                 ...  \n",
       "1813                                 TPS PWO CHECK COPY  \n",
       "1814  AND FIRE ON PAC TARGET ZERO ZERO FOUR NINE K A...  \n",
       "1815  # OW PWO COME LEFT TWO NINE ZERO WEPS THIS PWO...  \n",
       "1816  # ALL STATION # THIS PWO MISSIONS BRIEF AS FOL...  \n",
       "1817  REQUEST PERMISSION TO PROVIDE FIVE TP ROUND CO...  \n",
       "\n",
       "[1818 rows x 3 columns]"
      ]
     },
     "execution_count": 4,
     "metadata": {},
     "output_type": "execute_result"
    }
   ],
   "source": [
    "df_train"
   ]
  },
  {
   "cell_type": "code",
   "execution_count": 5,
   "id": "2d37cfe3-c402-4055-88a3-4229162a84bf",
   "metadata": {},
   "outputs": [
    {
     "data": {
      "text/html": [
       "<div>\n",
       "<style scoped>\n",
       "    .dataframe tbody tr th:only-of-type {\n",
       "        vertical-align: middle;\n",
       "    }\n",
       "\n",
       "    .dataframe tbody tr th {\n",
       "        vertical-align: top;\n",
       "    }\n",
       "\n",
       "    .dataframe thead th {\n",
       "        text-align: right;\n",
       "    }\n",
       "</style>\n",
       "<table border=\"1\" class=\"dataframe\">\n",
       "  <thead>\n",
       "    <tr style=\"text-align: right;\">\n",
       "      <th></th>\n",
       "      <th>file</th>\n",
       "      <th>audio</th>\n",
       "      <th>text</th>\n",
       "    </tr>\n",
       "  </thead>\n",
       "  <tbody>\n",
       "    <tr>\n",
       "      <th>0</th>\n",
       "      <td>./datasets/magister_data_flac_16000_finetune/d...</td>\n",
       "      <td>{'array': [0.01727295, 0.01184082, 0.006408691...</td>\n",
       "      <td>FOXTROT ONE DELTA THIS IS ALFA FOUR QUEBEC SHO...</td>\n",
       "    </tr>\n",
       "    <tr>\n",
       "      <th>1</th>\n",
       "      <td>./datasets/magister_data_flac_16000_finetune/d...</td>\n",
       "      <td>{'array': [0.0015258789, 0.001159668, 0.000793...</td>\n",
       "      <td>FOXTROT ONE DELTA THIS IS ALFA FOUR QUEBEC SHO...</td>\n",
       "    </tr>\n",
       "    <tr>\n",
       "      <th>2</th>\n",
       "      <td>./datasets/magister_data_flac_16000_finetune/d...</td>\n",
       "      <td>{'array': [0.005645752, 0.004852295, 0.0040588...</td>\n",
       "      <td>ALFA FOUR QUEBEC # POSITIONING # FOR P A C RUN...</td>\n",
       "    </tr>\n",
       "    <tr>\n",
       "      <th>3</th>\n",
       "      <td>./datasets/magister_data_flac_16000_finetune/d...</td>\n",
       "      <td>{'array': [0.001739502, 0.0017700195, 0.001831...</td>\n",
       "      <td>ALL IN THIS IS PWO INTEND CONTINUES FIRING NO ...</td>\n",
       "    </tr>\n",
       "    <tr>\n",
       "      <th>4</th>\n",
       "      <td>./datasets/magister_data_flac_16000_finetune/d...</td>\n",
       "      <td>{'array': [0.0011291504, 0.0005493164, 0.0, 0....</td>\n",
       "      <td>FOXTROT ONE DELTA THIS IS ALFA FOUR QUEBEC COM...</td>\n",
       "    </tr>\n",
       "    <tr>\n",
       "      <th>...</th>\n",
       "      <td>...</td>\n",
       "      <td>...</td>\n",
       "      <td>...</td>\n",
       "    </tr>\n",
       "    <tr>\n",
       "      <th>355</th>\n",
       "      <td>./datasets/magister_data_flac_16000_finetune/d...</td>\n",
       "      <td>{'array': [-0.0009460449, -0.0015563965, -0.00...</td>\n",
       "      <td>WEAPS TRANSMIT F C R ALL ROUND TRAINING FREQUE...</td>\n",
       "    </tr>\n",
       "    <tr>\n",
       "      <th>356</th>\n",
       "      <td>./datasets/magister_data_flac_16000_finetune/d...</td>\n",
       "      <td>{'array': [0.0005187988, 0.000579834, 0.000671...</td>\n",
       "      <td># COMMAND THIS IS BASE ON S O C CEASE IS # FOU...</td>\n",
       "    </tr>\n",
       "    <tr>\n",
       "      <th>357</th>\n",
       "      <td>./datasets/magister_data_flac_16000_finetune/d...</td>\n",
       "      <td>{'array': [-0.0005187988, -0.00079345703, -0.0...</td>\n",
       "      <td>RESOLVE # ID AND INTENTION OF # UNKNOWN # STRE...</td>\n",
       "    </tr>\n",
       "    <tr>\n",
       "      <th>358</th>\n",
       "      <td>./datasets/magister_data_flac_16000_finetune/d...</td>\n",
       "      <td>{'array': [0.0013122559, 0.0012817383, 0.00128...</td>\n",
       "      <td>I MAKE # U A ONE SEVEN FOUR # POSHOS U A ONE S...</td>\n",
       "    </tr>\n",
       "    <tr>\n",
       "      <th>359</th>\n",
       "      <td>./datasets/magister_data_flac_16000_finetune/d...</td>\n",
       "      <td>{'array': [9.1552734e-05, -0.00024414062, -0.0...</td>\n",
       "      <td>WEAPS # PWO PLOT P A C F P ONE NAUTICAL MILES ...</td>\n",
       "    </tr>\n",
       "  </tbody>\n",
       "</table>\n",
       "<p>360 rows × 3 columns</p>\n",
       "</div>"
      ],
      "text/plain": [
       "                                                  file  \\\n",
       "0    ./datasets/magister_data_flac_16000_finetune/d...   \n",
       "1    ./datasets/magister_data_flac_16000_finetune/d...   \n",
       "2    ./datasets/magister_data_flac_16000_finetune/d...   \n",
       "3    ./datasets/magister_data_flac_16000_finetune/d...   \n",
       "4    ./datasets/magister_data_flac_16000_finetune/d...   \n",
       "..                                                 ...   \n",
       "355  ./datasets/magister_data_flac_16000_finetune/d...   \n",
       "356  ./datasets/magister_data_flac_16000_finetune/d...   \n",
       "357  ./datasets/magister_data_flac_16000_finetune/d...   \n",
       "358  ./datasets/magister_data_flac_16000_finetune/d...   \n",
       "359  ./datasets/magister_data_flac_16000_finetune/d...   \n",
       "\n",
       "                                                 audio  \\\n",
       "0    {'array': [0.01727295, 0.01184082, 0.006408691...   \n",
       "1    {'array': [0.0015258789, 0.001159668, 0.000793...   \n",
       "2    {'array': [0.005645752, 0.004852295, 0.0040588...   \n",
       "3    {'array': [0.001739502, 0.0017700195, 0.001831...   \n",
       "4    {'array': [0.0011291504, 0.0005493164, 0.0, 0....   \n",
       "..                                                 ...   \n",
       "355  {'array': [-0.0009460449, -0.0015563965, -0.00...   \n",
       "356  {'array': [0.0005187988, 0.000579834, 0.000671...   \n",
       "357  {'array': [-0.0005187988, -0.00079345703, -0.0...   \n",
       "358  {'array': [0.0013122559, 0.0012817383, 0.00128...   \n",
       "359  {'array': [9.1552734e-05, -0.00024414062, -0.0...   \n",
       "\n",
       "                                                  text  \n",
       "0    FOXTROT ONE DELTA THIS IS ALFA FOUR QUEBEC SHO...  \n",
       "1    FOXTROT ONE DELTA THIS IS ALFA FOUR QUEBEC SHO...  \n",
       "2    ALFA FOUR QUEBEC # POSITIONING # FOR P A C RUN...  \n",
       "3    ALL IN THIS IS PWO INTEND CONTINUES FIRING NO ...  \n",
       "4    FOXTROT ONE DELTA THIS IS ALFA FOUR QUEBEC COM...  \n",
       "..                                                 ...  \n",
       "355  WEAPS TRANSMIT F C R ALL ROUND TRAINING FREQUE...  \n",
       "356  # COMMAND THIS IS BASE ON S O C CEASE IS # FOU...  \n",
       "357  RESOLVE # ID AND INTENTION OF # UNKNOWN # STRE...  \n",
       "358  I MAKE # U A ONE SEVEN FOUR # POSHOS U A ONE S...  \n",
       "359  WEAPS # PWO PLOT P A C F P ONE NAUTICAL MILES ...  \n",
       "\n",
       "[360 rows x 3 columns]"
      ]
     },
     "execution_count": 5,
     "metadata": {},
     "output_type": "execute_result"
    }
   ],
   "source": [
    "df_dev"
   ]
  },
  {
   "cell_type": "code",
   "execution_count": null,
   "id": "1e5ac00d-acd2-454c-8189-9c3e1b5c8d2e",
   "metadata": {},
   "outputs": [],
   "source": []
  },
  {
   "cell_type": "code",
   "execution_count": 6,
   "id": "efc5b595-9f2e-4409-aff4-93ba72fa83d6",
   "metadata": {},
   "outputs": [],
   "source": [
    "# from now on load the data from the pickle file and not from the dataset class from huggingface"
   ]
  },
  {
   "cell_type": "code",
   "execution_count": null,
   "id": "2aaac4ed-7bea-449b-84e0-addeca9192f2",
   "metadata": {},
   "outputs": [],
   "source": []
  },
  {
   "cell_type": "code",
   "execution_count": 7,
   "id": "2420b855-1e66-4ee1-a6b6-90aae50d0bdb",
   "metadata": {},
   "outputs": [
    {
     "data": {
      "text/plain": [
       "'./datasets/magister_data_flac_16000_finetune/dev/11251/314114000/11251-314114000-0045.flac'"
      ]
     },
     "execution_count": 7,
     "metadata": {},
     "output_type": "execute_result"
    }
   ],
   "source": [
    "df_dev['file'][0]"
   ]
  },
  {
   "cell_type": "code",
   "execution_count": 8,
   "id": "3674905b-de7f-46be-b491-06d499f76971",
   "metadata": {},
   "outputs": [
    {
     "data": {
      "text/plain": [
       "array([ 0.01727295,  0.01184082,  0.00640869,  0.00616455,  0.00592041,\n",
       "        0.00735474,  0.00881958,  0.00918579,  0.009552  ,  0.00881958,\n",
       "        0.00811768,  0.00979614,  0.01147461,  0.01074219,  0.01000977,\n",
       "        0.0083313 ,  0.00668335,  0.0062561 ,  0.00582886,  0.00094604,\n",
       "       -0.00390625, -0.00979614, -0.01565552, -0.01123047, -0.0067749 ],\n",
       "      dtype=float32)"
      ]
     },
     "execution_count": 8,
     "metadata": {},
     "output_type": "execute_result"
    }
   ],
   "source": [
    "df_dev['audio'][0]['array'][:25]"
   ]
  },
  {
   "cell_type": "code",
   "execution_count": null,
   "id": "59313418-6e5e-45a1-a7c3-489be39b4927",
   "metadata": {},
   "outputs": [],
   "source": []
  },
  {
   "cell_type": "code",
   "execution_count": 9,
   "id": "14d7cc22-93a7-47e7-8c43-2d6c4ed2562c",
   "metadata": {},
   "outputs": [],
   "source": [
    "# extract all characters available in the annotations\n",
    "def extract_all_chars(batch):\n",
    "    all_text = \" \".join(batch[\"text\"])\n",
    "    vocab = list(set(all_text))\n",
    "    return vocab"
   ]
  },
  {
   "cell_type": "code",
   "execution_count": 10,
   "id": "78448ee4-9d75-4de0-ab4e-8fe96f33a51b",
   "metadata": {},
   "outputs": [
    {
     "name": "stdout",
     "output_type": "stream",
     "text": [
      "30\n"
     ]
    },
    {
     "data": {
      "text/plain": [
       "[' ',\n",
       " 'A',\n",
       " 'R',\n",
       " 'U',\n",
       " 'M',\n",
       " 'Q',\n",
       " 'G',\n",
       " 'C',\n",
       " 'X',\n",
       " 'D',\n",
       " \"'\",\n",
       " 'Y',\n",
       " 'O',\n",
       " 'F',\n",
       " 'T',\n",
       " 'H',\n",
       " 'J',\n",
       " 'I',\n",
       " 'W',\n",
       " '#',\n",
       " 'S',\n",
       " 'N',\n",
       " 'E',\n",
       " 'P',\n",
       " '-',\n",
       " 'L',\n",
       " 'V',\n",
       " 'B',\n",
       " 'Z',\n",
       " 'K']"
      ]
     },
     "execution_count": 10,
     "metadata": {},
     "output_type": "execute_result"
    }
   ],
   "source": [
    "# extract characters from train dataset\n",
    "vocabs_train = extract_all_chars(df_train)\n",
    "print(len(vocabs_train))\n",
    "vocabs_train"
   ]
  },
  {
   "cell_type": "code",
   "execution_count": 11,
   "id": "7b6ee110-a5f3-4796-b566-08bcb042ba10",
   "metadata": {},
   "outputs": [
    {
     "name": "stdout",
     "output_type": "stream",
     "text": [
      "29\n"
     ]
    },
    {
     "data": {
      "text/plain": [
       "[' ',\n",
       " 'A',\n",
       " 'R',\n",
       " 'U',\n",
       " 'M',\n",
       " 'Q',\n",
       " 'C',\n",
       " 'G',\n",
       " 'X',\n",
       " 'D',\n",
       " \"'\",\n",
       " 'Y',\n",
       " 'O',\n",
       " 'F',\n",
       " 'T',\n",
       " 'H',\n",
       " 'J',\n",
       " 'I',\n",
       " 'W',\n",
       " '#',\n",
       " 'S',\n",
       " 'N',\n",
       " 'E',\n",
       " 'P',\n",
       " 'L',\n",
       " 'V',\n",
       " 'B',\n",
       " 'Z',\n",
       " 'K']"
      ]
     },
     "execution_count": 11,
     "metadata": {},
     "output_type": "execute_result"
    }
   ],
   "source": [
    "# extract characters from train dataset\n",
    "vocabs_dev = extract_all_chars(df_dev)\n",
    "print(len(vocabs_dev))\n",
    "vocabs_dev"
   ]
  },
  {
   "cell_type": "code",
   "execution_count": null,
   "id": "667cbf90-000b-4174-8f41-6ee7f2cad9e9",
   "metadata": {},
   "outputs": [],
   "source": []
  },
  {
   "cell_type": "code",
   "execution_count": 12,
   "id": "190e1ab3-4f71-4341-bf46-b23e4632a619",
   "metadata": {},
   "outputs": [
    {
     "data": {
      "text/plain": [
       "[' ',\n",
       " 'A',\n",
       " 'R',\n",
       " 'U',\n",
       " 'M',\n",
       " 'Q',\n",
       " 'C',\n",
       " 'G',\n",
       " 'X',\n",
       " 'D',\n",
       " \"'\",\n",
       " 'Y',\n",
       " 'O',\n",
       " 'F',\n",
       " 'T',\n",
       " 'H',\n",
       " 'J',\n",
       " 'I',\n",
       " 'W',\n",
       " '#',\n",
       " 'S',\n",
       " 'N',\n",
       " 'E',\n",
       " 'P',\n",
       " '-',\n",
       " 'L',\n",
       " 'V',\n",
       " 'B',\n",
       " 'Z',\n",
       " 'K']"
      ]
     },
     "execution_count": 12,
     "metadata": {},
     "output_type": "execute_result"
    }
   ],
   "source": [
    "# create a union of all distinct letters in the training and the dev datasets\n",
    "vocab_list = list(set(vocabs_train) | set(vocabs_dev))\n",
    "vocab_list"
   ]
  },
  {
   "cell_type": "code",
   "execution_count": 13,
   "id": "02de6c61-d780-4f30-9b23-51bc0a2bcbd3",
   "metadata": {},
   "outputs": [
    {
     "data": {
      "text/plain": [
       "{' ': 0,\n",
       " 'A': 1,\n",
       " 'R': 2,\n",
       " 'U': 3,\n",
       " 'M': 4,\n",
       " 'Q': 5,\n",
       " 'C': 6,\n",
       " 'G': 7,\n",
       " 'X': 8,\n",
       " 'D': 9,\n",
       " \"'\": 10,\n",
       " 'Y': 11,\n",
       " 'O': 12,\n",
       " 'F': 13,\n",
       " 'T': 14,\n",
       " 'H': 15,\n",
       " 'J': 16,\n",
       " 'I': 17,\n",
       " 'W': 18,\n",
       " '#': 19,\n",
       " 'S': 20,\n",
       " 'N': 21,\n",
       " 'E': 22,\n",
       " 'P': 23,\n",
       " '-': 24,\n",
       " 'L': 25,\n",
       " 'V': 26,\n",
       " 'B': 27,\n",
       " 'Z': 28,\n",
       " 'K': 29}"
      ]
     },
     "execution_count": 13,
     "metadata": {},
     "output_type": "execute_result"
    }
   ],
   "source": [
    "# convert resulting list into an enumerated dictionary\n",
    "vocab_dict = {v: k for k, v in enumerate(vocab_list)}\n",
    "vocab_dict"
   ]
  },
  {
   "cell_type": "code",
   "execution_count": 14,
   "id": "9b10bdc4-098d-429d-a4ac-08eceb251954",
   "metadata": {},
   "outputs": [
    {
     "data": {
      "text/plain": [
       "{'A': 1,\n",
       " 'R': 2,\n",
       " 'U': 3,\n",
       " 'M': 4,\n",
       " 'Q': 5,\n",
       " 'C': 6,\n",
       " 'G': 7,\n",
       " 'X': 8,\n",
       " 'D': 9,\n",
       " \"'\": 10,\n",
       " 'Y': 11,\n",
       " 'O': 12,\n",
       " 'F': 13,\n",
       " 'T': 14,\n",
       " 'H': 15,\n",
       " 'J': 16,\n",
       " 'I': 17,\n",
       " 'W': 18,\n",
       " '#': 19,\n",
       " 'S': 20,\n",
       " 'N': 21,\n",
       " 'E': 22,\n",
       " 'P': 23,\n",
       " '-': 24,\n",
       " 'L': 25,\n",
       " 'V': 26,\n",
       " 'B': 27,\n",
       " 'Z': 28,\n",
       " 'K': 29,\n",
       " '|': 0}"
      ]
     },
     "execution_count": 14,
     "metadata": {},
     "output_type": "execute_result"
    }
   ],
   "source": [
    "# replace space with a more visible character |\n",
    "vocab_dict[\"|\"] = vocab_dict[\" \"]\n",
    "del vocab_dict[\" \"]\n",
    "vocab_dict"
   ]
  },
  {
   "cell_type": "code",
   "execution_count": 15,
   "id": "76d3f787-c0ae-4856-b0eb-3aa2918d92d1",
   "metadata": {},
   "outputs": [
    {
     "name": "stdout",
     "output_type": "stream",
     "text": [
      "32\n"
     ]
    },
    {
     "data": {
      "text/plain": [
       "{'A': 1,\n",
       " 'R': 2,\n",
       " 'U': 3,\n",
       " 'M': 4,\n",
       " 'Q': 5,\n",
       " 'C': 6,\n",
       " 'G': 7,\n",
       " 'X': 8,\n",
       " 'D': 9,\n",
       " \"'\": 10,\n",
       " 'Y': 11,\n",
       " 'O': 12,\n",
       " 'F': 13,\n",
       " 'T': 14,\n",
       " 'H': 15,\n",
       " 'J': 16,\n",
       " 'I': 17,\n",
       " 'W': 18,\n",
       " '#': 19,\n",
       " 'S': 20,\n",
       " 'N': 21,\n",
       " 'E': 22,\n",
       " 'P': 23,\n",
       " '-': 24,\n",
       " 'L': 25,\n",
       " 'V': 26,\n",
       " 'B': 27,\n",
       " 'Z': 28,\n",
       " 'K': 29,\n",
       " '|': 0,\n",
       " '[UNK]': 30,\n",
       " '[PAD]': 31}"
      ]
     },
     "execution_count": 15,
     "metadata": {},
     "output_type": "execute_result"
    }
   ],
   "source": [
    "# add the [UNK] and the [PAD] token\n",
    "vocab_dict[\"[UNK]\"] = len(vocab_dict)\n",
    "vocab_dict[\"[PAD]\"] = len(vocab_dict)\n",
    "print(len(vocab_dict))\n",
    "vocab_dict"
   ]
  },
  {
   "cell_type": "code",
   "execution_count": null,
   "id": "2149b558-46ff-4e84-b1fb-c2f3b7c27250",
   "metadata": {},
   "outputs": [],
   "source": []
  },
  {
   "cell_type": "code",
   "execution_count": 16,
   "id": "daa77684-752e-4a95-9846-ccfb44b2a31f",
   "metadata": {},
   "outputs": [],
   "source": [
    "# vocabulary is completed, now save the vocabulary as a json file\n",
    "with open('vocab.json', 'w') as vocab_file:\n",
    "    json.dump(vocab_dict, vocab_file)"
   ]
  },
  {
   "cell_type": "code",
   "execution_count": null,
   "id": "fef1b241-9d9a-40c1-80d6-e2db9600c01c",
   "metadata": {},
   "outputs": [],
   "source": []
  },
  {
   "cell_type": "code",
   "execution_count": null,
   "id": "84fccc7f-fe93-4864-aa11-b78dc3eba44f",
   "metadata": {},
   "outputs": [],
   "source": []
  },
  {
   "cell_type": "code",
   "execution_count": 17,
   "id": "fee7352a-91e3-4a11-b8b7-76fdd2e880f3",
   "metadata": {},
   "outputs": [
    {
     "data": {
      "text/plain": [
       "PreTrainedTokenizer(name_or_path='', vocab_size=32, model_max_len=1000000000000000019884624838656, is_fast=False, padding_side='right', truncation_side='right', special_tokens={'bos_token': '<s>', 'eos_token': '</s>', 'unk_token': '[UNK]', 'pad_token': '[PAD]'})"
      ]
     },
     "execution_count": 17,
     "metadata": {},
     "output_type": "execute_result"
    }
   ],
   "source": [
    "# use the json file to instantiate an object of the Wav2Vec2CTCTokenizer class\n",
    "from transformers import Wav2Vec2CTCTokenizer\n",
    "\n",
    "tokenizer = Wav2Vec2CTCTokenizer(\"./vocab.json\", unk_token=\"[UNK]\", pad_token=\"[PAD]\", word_delimiter_token=\"|\")\n",
    "tokenizer"
   ]
  },
  {
   "cell_type": "code",
   "execution_count": null,
   "id": "e36795eb-8bff-451e-8186-3202a0a886b3",
   "metadata": {},
   "outputs": [],
   "source": []
  },
  {
   "cell_type": "code",
   "execution_count": null,
   "id": "832d1358-33d1-4bb0-bc53-fadf9fd095c3",
   "metadata": {},
   "outputs": [],
   "source": []
  },
  {
   "cell_type": "markdown",
   "id": "ec846850-6f32-43dd-8355-411ea4d44a31",
   "metadata": {},
   "source": [
    "## Prepare feature extractor"
   ]
  },
  {
   "cell_type": "code",
   "execution_count": 18,
   "id": "0bf399c8-2184-454f-a91f-53d0e64e9408",
   "metadata": {},
   "outputs": [],
   "source": [
    "feature_extractor = Wav2Vec2FeatureExtractor(feature_size=1, sampling_rate=16000, padding_value=0.0, do_normalize=True, return_attention_mask=False)\n",
    "\n",
    "# wrap the feature extractor and tokenizer as a single Wav2VevProcessor class object\n",
    "processor = Wav2Vec2Processor(feature_extractor=feature_extractor, tokenizer=tokenizer)"
   ]
  },
  {
   "cell_type": "code",
   "execution_count": null,
   "id": "3ee12c09-8b9e-4807-a010-14e05bfe4ff0",
   "metadata": {},
   "outputs": [],
   "source": []
  },
  {
   "cell_type": "markdown",
   "id": "7bc621f5-7e05-4bc6-951a-85203012c9f9",
   "metadata": {},
   "source": [
    "## Preprocess data"
   ]
  },
  {
   "cell_type": "code",
   "execution_count": 19,
   "id": "bcc7a1ad-e3aa-4bde-9e2d-5ec9c97d5ab9",
   "metadata": {},
   "outputs": [
    {
     "data": {
      "text/html": [
       "<div>\n",
       "<style scoped>\n",
       "    .dataframe tbody tr th:only-of-type {\n",
       "        vertical-align: middle;\n",
       "    }\n",
       "\n",
       "    .dataframe tbody tr th {\n",
       "        vertical-align: top;\n",
       "    }\n",
       "\n",
       "    .dataframe thead th {\n",
       "        text-align: right;\n",
       "    }\n",
       "</style>\n",
       "<table border=\"1\" class=\"dataframe\">\n",
       "  <thead>\n",
       "    <tr style=\"text-align: right;\">\n",
       "      <th></th>\n",
       "      <th>file</th>\n",
       "      <th>audio</th>\n",
       "      <th>text</th>\n",
       "    </tr>\n",
       "  </thead>\n",
       "  <tbody>\n",
       "    <tr>\n",
       "      <th>0</th>\n",
       "      <td>./datasets/magister_data_flac_16000_finetune/t...</td>\n",
       "      <td>{'array': [-0.00091552734, -0.0007324219, -0.0...</td>\n",
       "      <td>FCS GUNNERY BROADCAST POLICY SURFACE AND AIR F...</td>\n",
       "    </tr>\n",
       "    <tr>\n",
       "      <th>1</th>\n",
       "      <td>./datasets/magister_data_flac_16000_finetune/t...</td>\n",
       "      <td>{'array': [-0.00012207031, 0.00018310547, 0.00...</td>\n",
       "      <td>ROGER</td>\n",
       "    </tr>\n",
       "    <tr>\n",
       "      <th>2</th>\n",
       "      <td>./datasets/magister_data_flac_16000_finetune/t...</td>\n",
       "      <td>{'array': [0.0077209473, 0.009490967, 0.011291...</td>\n",
       "      <td>AGUN ENGAGE MISSILE NORTH AT TWO MILES</td>\n",
       "    </tr>\n",
       "    <tr>\n",
       "      <th>3</th>\n",
       "      <td>./datasets/magister_data_flac_16000_finetune/t...</td>\n",
       "      <td>{'array': [-0.0057373047, -0.0053100586, -0.00...</td>\n",
       "      <td>G P M G PROVIDE ONE BOX TWO FIVE ZERO ROUNDS L...</td>\n",
       "    </tr>\n",
       "    <tr>\n",
       "      <th>4</th>\n",
       "      <td>./datasets/magister_data_flac_16000_finetune/t...</td>\n",
       "      <td>{'array': [3.0517578e-05, -3.0517578e-05, -6.1...</td>\n",
       "      <td>OOW COME LEFT ZERO TWO ZERO INCREASE ONE TWO OOW</td>\n",
       "    </tr>\n",
       "    <tr>\n",
       "      <th>...</th>\n",
       "      <td>...</td>\n",
       "      <td>...</td>\n",
       "      <td>...</td>\n",
       "    </tr>\n",
       "    <tr>\n",
       "      <th>1813</th>\n",
       "      <td>./datasets/magister_data_flac_16000_finetune/t...</td>\n",
       "      <td>{'array': [0.008239746, 0.011108398, 0.0139770...</td>\n",
       "      <td>TPS PWO CHECK COPY</td>\n",
       "    </tr>\n",
       "    <tr>\n",
       "      <th>1814</th>\n",
       "      <td>./datasets/magister_data_flac_16000_finetune/t...</td>\n",
       "      <td>{'array': [0.0015563965, 0.0008544922, 0.00015...</td>\n",
       "      <td>AND FIRE ON PAC TARGET ZERO ZERO FOUR NINE K A...</td>\n",
       "    </tr>\n",
       "    <tr>\n",
       "      <th>1815</th>\n",
       "      <td>./datasets/magister_data_flac_16000_finetune/t...</td>\n",
       "      <td>{'array': [0.2989502, 0.3025818, 0.3062439, 0....</td>\n",
       "      <td># OW PWO COME LEFT TWO NINE ZERO WEPS THIS PWO...</td>\n",
       "    </tr>\n",
       "    <tr>\n",
       "      <th>1816</th>\n",
       "      <td>./datasets/magister_data_flac_16000_finetune/t...</td>\n",
       "      <td>{'array': [3.0517578e-05, -0.00024414062, -0.0...</td>\n",
       "      <td># ALL STATION # THIS PWO MISSIONS BRIEF AS FOL...</td>\n",
       "    </tr>\n",
       "    <tr>\n",
       "      <th>1817</th>\n",
       "      <td>./datasets/magister_data_flac_16000_finetune/t...</td>\n",
       "      <td>{'array': [0.04800415, -0.047058105, -0.142120...</td>\n",
       "      <td>REQUEST PERMISSION TO PROVIDE FIVE TP ROUND CO...</td>\n",
       "    </tr>\n",
       "  </tbody>\n",
       "</table>\n",
       "<p>1818 rows × 3 columns</p>\n",
       "</div>"
      ],
      "text/plain": [
       "                                                   file  \\\n",
       "0     ./datasets/magister_data_flac_16000_finetune/t...   \n",
       "1     ./datasets/magister_data_flac_16000_finetune/t...   \n",
       "2     ./datasets/magister_data_flac_16000_finetune/t...   \n",
       "3     ./datasets/magister_data_flac_16000_finetune/t...   \n",
       "4     ./datasets/magister_data_flac_16000_finetune/t...   \n",
       "...                                                 ...   \n",
       "1813  ./datasets/magister_data_flac_16000_finetune/t...   \n",
       "1814  ./datasets/magister_data_flac_16000_finetune/t...   \n",
       "1815  ./datasets/magister_data_flac_16000_finetune/t...   \n",
       "1816  ./datasets/magister_data_flac_16000_finetune/t...   \n",
       "1817  ./datasets/magister_data_flac_16000_finetune/t...   \n",
       "\n",
       "                                                  audio  \\\n",
       "0     {'array': [-0.00091552734, -0.0007324219, -0.0...   \n",
       "1     {'array': [-0.00012207031, 0.00018310547, 0.00...   \n",
       "2     {'array': [0.0077209473, 0.009490967, 0.011291...   \n",
       "3     {'array': [-0.0057373047, -0.0053100586, -0.00...   \n",
       "4     {'array': [3.0517578e-05, -3.0517578e-05, -6.1...   \n",
       "...                                                 ...   \n",
       "1813  {'array': [0.008239746, 0.011108398, 0.0139770...   \n",
       "1814  {'array': [0.0015563965, 0.0008544922, 0.00015...   \n",
       "1815  {'array': [0.2989502, 0.3025818, 0.3062439, 0....   \n",
       "1816  {'array': [3.0517578e-05, -0.00024414062, -0.0...   \n",
       "1817  {'array': [0.04800415, -0.047058105, -0.142120...   \n",
       "\n",
       "                                                   text  \n",
       "0     FCS GUNNERY BROADCAST POLICY SURFACE AND AIR F...  \n",
       "1                                                 ROGER  \n",
       "2                AGUN ENGAGE MISSILE NORTH AT TWO MILES  \n",
       "3     G P M G PROVIDE ONE BOX TWO FIVE ZERO ROUNDS L...  \n",
       "4      OOW COME LEFT ZERO TWO ZERO INCREASE ONE TWO OOW  \n",
       "...                                                 ...  \n",
       "1813                                 TPS PWO CHECK COPY  \n",
       "1814  AND FIRE ON PAC TARGET ZERO ZERO FOUR NINE K A...  \n",
       "1815  # OW PWO COME LEFT TWO NINE ZERO WEPS THIS PWO...  \n",
       "1816  # ALL STATION # THIS PWO MISSIONS BRIEF AS FOL...  \n",
       "1817  REQUEST PERMISSION TO PROVIDE FIVE TP ROUND CO...  \n",
       "\n",
       "[1818 rows x 3 columns]"
      ]
     },
     "execution_count": 19,
     "metadata": {},
     "output_type": "execute_result"
    }
   ],
   "source": [
    "# check the data from the pkl file\n",
    "df_train"
   ]
  },
  {
   "cell_type": "code",
   "execution_count": 20,
   "id": "a7f4d749-b9d9-4859-b068-c600e2ade853",
   "metadata": {},
   "outputs": [
    {
     "data": {
      "text/html": [
       "<div>\n",
       "<style scoped>\n",
       "    .dataframe tbody tr th:only-of-type {\n",
       "        vertical-align: middle;\n",
       "    }\n",
       "\n",
       "    .dataframe tbody tr th {\n",
       "        vertical-align: top;\n",
       "    }\n",
       "\n",
       "    .dataframe thead th {\n",
       "        text-align: right;\n",
       "    }\n",
       "</style>\n",
       "<table border=\"1\" class=\"dataframe\">\n",
       "  <thead>\n",
       "    <tr style=\"text-align: right;\">\n",
       "      <th></th>\n",
       "      <th>file</th>\n",
       "      <th>audio</th>\n",
       "      <th>text</th>\n",
       "    </tr>\n",
       "  </thead>\n",
       "  <tbody>\n",
       "    <tr>\n",
       "      <th>0</th>\n",
       "      <td>./datasets/magister_data_flac_16000_finetune/d...</td>\n",
       "      <td>{'array': [0.01727295, 0.01184082, 0.006408691...</td>\n",
       "      <td>FOXTROT ONE DELTA THIS IS ALFA FOUR QUEBEC SHO...</td>\n",
       "    </tr>\n",
       "    <tr>\n",
       "      <th>1</th>\n",
       "      <td>./datasets/magister_data_flac_16000_finetune/d...</td>\n",
       "      <td>{'array': [0.0015258789, 0.001159668, 0.000793...</td>\n",
       "      <td>FOXTROT ONE DELTA THIS IS ALFA FOUR QUEBEC SHO...</td>\n",
       "    </tr>\n",
       "    <tr>\n",
       "      <th>2</th>\n",
       "      <td>./datasets/magister_data_flac_16000_finetune/d...</td>\n",
       "      <td>{'array': [0.005645752, 0.004852295, 0.0040588...</td>\n",
       "      <td>ALFA FOUR QUEBEC # POSITIONING # FOR P A C RUN...</td>\n",
       "    </tr>\n",
       "    <tr>\n",
       "      <th>3</th>\n",
       "      <td>./datasets/magister_data_flac_16000_finetune/d...</td>\n",
       "      <td>{'array': [0.001739502, 0.0017700195, 0.001831...</td>\n",
       "      <td>ALL IN THIS IS PWO INTEND CONTINUES FIRING NO ...</td>\n",
       "    </tr>\n",
       "    <tr>\n",
       "      <th>4</th>\n",
       "      <td>./datasets/magister_data_flac_16000_finetune/d...</td>\n",
       "      <td>{'array': [0.0011291504, 0.0005493164, 0.0, 0....</td>\n",
       "      <td>FOXTROT ONE DELTA THIS IS ALFA FOUR QUEBEC COM...</td>\n",
       "    </tr>\n",
       "    <tr>\n",
       "      <th>...</th>\n",
       "      <td>...</td>\n",
       "      <td>...</td>\n",
       "      <td>...</td>\n",
       "    </tr>\n",
       "    <tr>\n",
       "      <th>355</th>\n",
       "      <td>./datasets/magister_data_flac_16000_finetune/d...</td>\n",
       "      <td>{'array': [-0.0009460449, -0.0015563965, -0.00...</td>\n",
       "      <td>WEAPS TRANSMIT F C R ALL ROUND TRAINING FREQUE...</td>\n",
       "    </tr>\n",
       "    <tr>\n",
       "      <th>356</th>\n",
       "      <td>./datasets/magister_data_flac_16000_finetune/d...</td>\n",
       "      <td>{'array': [0.0005187988, 0.000579834, 0.000671...</td>\n",
       "      <td># COMMAND THIS IS BASE ON S O C CEASE IS # FOU...</td>\n",
       "    </tr>\n",
       "    <tr>\n",
       "      <th>357</th>\n",
       "      <td>./datasets/magister_data_flac_16000_finetune/d...</td>\n",
       "      <td>{'array': [-0.0005187988, -0.00079345703, -0.0...</td>\n",
       "      <td>RESOLVE # ID AND INTENTION OF # UNKNOWN # STRE...</td>\n",
       "    </tr>\n",
       "    <tr>\n",
       "      <th>358</th>\n",
       "      <td>./datasets/magister_data_flac_16000_finetune/d...</td>\n",
       "      <td>{'array': [0.0013122559, 0.0012817383, 0.00128...</td>\n",
       "      <td>I MAKE # U A ONE SEVEN FOUR # POSHOS U A ONE S...</td>\n",
       "    </tr>\n",
       "    <tr>\n",
       "      <th>359</th>\n",
       "      <td>./datasets/magister_data_flac_16000_finetune/d...</td>\n",
       "      <td>{'array': [9.1552734e-05, -0.00024414062, -0.0...</td>\n",
       "      <td>WEAPS # PWO PLOT P A C F P ONE NAUTICAL MILES ...</td>\n",
       "    </tr>\n",
       "  </tbody>\n",
       "</table>\n",
       "<p>360 rows × 3 columns</p>\n",
       "</div>"
      ],
      "text/plain": [
       "                                                  file  \\\n",
       "0    ./datasets/magister_data_flac_16000_finetune/d...   \n",
       "1    ./datasets/magister_data_flac_16000_finetune/d...   \n",
       "2    ./datasets/magister_data_flac_16000_finetune/d...   \n",
       "3    ./datasets/magister_data_flac_16000_finetune/d...   \n",
       "4    ./datasets/magister_data_flac_16000_finetune/d...   \n",
       "..                                                 ...   \n",
       "355  ./datasets/magister_data_flac_16000_finetune/d...   \n",
       "356  ./datasets/magister_data_flac_16000_finetune/d...   \n",
       "357  ./datasets/magister_data_flac_16000_finetune/d...   \n",
       "358  ./datasets/magister_data_flac_16000_finetune/d...   \n",
       "359  ./datasets/magister_data_flac_16000_finetune/d...   \n",
       "\n",
       "                                                 audio  \\\n",
       "0    {'array': [0.01727295, 0.01184082, 0.006408691...   \n",
       "1    {'array': [0.0015258789, 0.001159668, 0.000793...   \n",
       "2    {'array': [0.005645752, 0.004852295, 0.0040588...   \n",
       "3    {'array': [0.001739502, 0.0017700195, 0.001831...   \n",
       "4    {'array': [0.0011291504, 0.0005493164, 0.0, 0....   \n",
       "..                                                 ...   \n",
       "355  {'array': [-0.0009460449, -0.0015563965, -0.00...   \n",
       "356  {'array': [0.0005187988, 0.000579834, 0.000671...   \n",
       "357  {'array': [-0.0005187988, -0.00079345703, -0.0...   \n",
       "358  {'array': [0.0013122559, 0.0012817383, 0.00128...   \n",
       "359  {'array': [9.1552734e-05, -0.00024414062, -0.0...   \n",
       "\n",
       "                                                  text  \n",
       "0    FOXTROT ONE DELTA THIS IS ALFA FOUR QUEBEC SHO...  \n",
       "1    FOXTROT ONE DELTA THIS IS ALFA FOUR QUEBEC SHO...  \n",
       "2    ALFA FOUR QUEBEC # POSITIONING # FOR P A C RUN...  \n",
       "3    ALL IN THIS IS PWO INTEND CONTINUES FIRING NO ...  \n",
       "4    FOXTROT ONE DELTA THIS IS ALFA FOUR QUEBEC COM...  \n",
       "..                                                 ...  \n",
       "355  WEAPS TRANSMIT F C R ALL ROUND TRAINING FREQUE...  \n",
       "356  # COMMAND THIS IS BASE ON S O C CEASE IS # FOU...  \n",
       "357  RESOLVE # ID AND INTENTION OF # UNKNOWN # STRE...  \n",
       "358  I MAKE # U A ONE SEVEN FOUR # POSHOS U A ONE S...  \n",
       "359  WEAPS # PWO PLOT P A C F P ONE NAUTICAL MILES ...  \n",
       "\n",
       "[360 rows x 3 columns]"
      ]
     },
     "execution_count": 20,
     "metadata": {},
     "output_type": "execute_result"
    }
   ],
   "source": [
    "df_dev"
   ]
  },
  {
   "cell_type": "code",
   "execution_count": 21,
   "id": "26f1036c-1a8b-4387-a533-0449bdd2d132",
   "metadata": {},
   "outputs": [
    {
     "data": {
      "text/plain": [
       "{'array': array([-0.00091553, -0.00073242, -0.0005188 , ..., -0.00949097,\n",
       "        -0.00546265, -0.00143433], dtype=float32),\n",
       " 'path': './datasets/magister_data_flac_16000_finetune/train/11056/2614000/11056-2614000-0024.flac',\n",
       " 'sampling_rate': 16000}"
      ]
     },
     "execution_count": 21,
     "metadata": {},
     "output_type": "execute_result"
    }
   ],
   "source": [
    "df_train['audio'][0]"
   ]
  },
  {
   "cell_type": "code",
   "execution_count": 22,
   "id": "b061c1d4-ffc0-42bd-a5da-d16b744d5a77",
   "metadata": {},
   "outputs": [
    {
     "data": {
      "text/plain": [
       "array([-0.00091553, -0.00073242, -0.0005188 , ..., -0.00949097,\n",
       "       -0.00546265, -0.00143433], dtype=float32)"
      ]
     },
     "execution_count": 22,
     "metadata": {},
     "output_type": "execute_result"
    }
   ],
   "source": [
    "df_train['audio'][0]['array']"
   ]
  },
  {
   "cell_type": "code",
   "execution_count": 23,
   "id": "344f765a-7e71-4e38-b174-037b0eaff493",
   "metadata": {},
   "outputs": [
    {
     "data": {
      "text/plain": [
       "'./datasets/magister_data_flac_16000_finetune/train/11056/2614000/11056-2614000-0024.flac'"
      ]
     },
     "execution_count": 23,
     "metadata": {},
     "output_type": "execute_result"
    }
   ],
   "source": [
    "df_train['file'][0]"
   ]
  },
  {
   "cell_type": "code",
   "execution_count": 24,
   "id": "643c5b34-efd7-400d-88ec-f4d7fcf22917",
   "metadata": {},
   "outputs": [
    {
     "data": {
      "text/plain": [
       "'FCS GUNNERY BROADCAST POLICY SURFACE AND AIR F C R TRANSMIT WHEN ORDERED AGUN PROVIDE MODE ALPHA LOADING BRAVO GUN PROVIDE'"
      ]
     },
     "execution_count": 24,
     "metadata": {},
     "output_type": "execute_result"
    }
   ],
   "source": [
    "df_train['text'][0]"
   ]
  },
  {
   "cell_type": "code",
   "execution_count": null,
   "id": "71bf9a69-2ed4-4935-a576-f559c1821c00",
   "metadata": {},
   "outputs": [],
   "source": []
  },
  {
   "cell_type": "code",
   "execution_count": 25,
   "id": "0c44f63c-0164-406e-8254-3a3c7fe4082d",
   "metadata": {},
   "outputs": [
    {
     "data": {
      "text/plain": [
       "Dataset({\n",
       "    features: ['file', 'audio', 'text'],\n",
       "    num_rows: 1818\n",
       "})"
      ]
     },
     "execution_count": 25,
     "metadata": {},
     "output_type": "execute_result"
    }
   ],
   "source": [
    "dataset_train = Dataset.from_pandas(df_train)\n",
    "dataset_train"
   ]
  },
  {
   "cell_type": "code",
   "execution_count": 26,
   "id": "da5ff3c1-4f6c-4a19-a7ec-5c62c30b9b2f",
   "metadata": {},
   "outputs": [
    {
     "data": {
      "text/plain": [
       "Dataset({\n",
       "    features: ['file', 'audio', 'text'],\n",
       "    num_rows: 360\n",
       "})"
      ]
     },
     "execution_count": 26,
     "metadata": {},
     "output_type": "execute_result"
    }
   ],
   "source": [
    "dataset_dev = Dataset.from_pandas(df_dev)\n",
    "dataset_dev"
   ]
  },
  {
   "cell_type": "code",
   "execution_count": 49,
   "id": "ec2810e9-8fde-4bfa-a4e7-d8201617015e",
   "metadata": {},
   "outputs": [],
   "source": [
    "# dataset_dev['audio'][0]['array'][:30]"
   ]
  },
  {
   "cell_type": "code",
   "execution_count": null,
   "id": "94c677d2-e165-49db-8459-a15ef1c4a256",
   "metadata": {},
   "outputs": [],
   "source": []
  },
  {
   "cell_type": "code",
   "execution_count": 28,
   "id": "1fd348ca-e9ba-4cd3-b720-af7b01a76bc6",
   "metadata": {},
   "outputs": [
    {
     "data": {
      "text/plain": [
       "DatasetDict({\n",
       "    train: Dataset({\n",
       "        features: ['file', 'audio', 'text'],\n",
       "        num_rows: 1818\n",
       "    })\n",
       "    dev: Dataset({\n",
       "        features: ['file', 'audio', 'text'],\n",
       "        num_rows: 360\n",
       "    })\n",
       "})"
      ]
     },
     "execution_count": 28,
     "metadata": {},
     "output_type": "execute_result"
    }
   ],
   "source": [
    "dataset = DatasetDict({\n",
    "    \"train\": dataset_train,\n",
    "    \"dev\": dataset_dev\n",
    "})\n",
    "\n",
    "dataset"
   ]
  },
  {
   "cell_type": "code",
   "execution_count": null,
   "id": "63a7d527-03d7-4bdf-ac41-30ed27f4c55f",
   "metadata": {},
   "outputs": [],
   "source": []
  },
  {
   "cell_type": "code",
   "execution_count": 29,
   "id": "8b015efc-844c-49a1-9860-6f1c6b9fa476",
   "metadata": {},
   "outputs": [],
   "source": [
    "# preparing the dataset\n",
    "def prepare_dataset(batch):\n",
    "    audio = batch[\"audio\"]\n",
    "\n",
    "    # batched output is \"un-batched\" to ensure mapping is correct\n",
    "    batch[\"input_values\"] = processor(audio[\"array\"], sampling_rate=audio[\"sampling_rate\"]).input_values[0]\n",
    "    batch[\"input_length\"] = len(batch[\"input_values\"])\n",
    "    \n",
    "    with processor.as_target_processor():\n",
    "        batch[\"labels\"] = processor(batch[\"text\"]).input_ids\n",
    "    return batch"
   ]
  },
  {
   "cell_type": "code",
   "execution_count": 30,
   "id": "61b836a6-91e7-4d50-a6e4-9aa7f224b221",
   "metadata": {},
   "outputs": [
    {
     "data": {
      "application/vnd.jupyter.widget-view+json": {
       "model_id": "6e73ca8254e74a748a8e1c29c1a9cb50",
       "version_major": 2,
       "version_minor": 0
      },
      "text/plain": [
       "  0%|          | 0/1818 [00:00<?, ?ex/s]"
      ]
     },
     "metadata": {},
     "output_type": "display_data"
    },
    {
     "data": {
      "application/vnd.jupyter.widget-view+json": {
       "model_id": "9e19723473d14444b33adedff6ac457d",
       "version_major": 2,
       "version_minor": 0
      },
      "text/plain": [
       "  0%|          | 0/360 [00:00<?, ?ex/s]"
      ]
     },
     "metadata": {},
     "output_type": "display_data"
    }
   ],
   "source": [
    "dataset = dataset.map(prepare_dataset, remove_columns=dataset.column_names[\"train\"], num_proc=1)"
   ]
  },
  {
   "cell_type": "code",
   "execution_count": null,
   "id": "ea19aab8-2e06-4812-a951-26167eb09f55",
   "metadata": {},
   "outputs": [],
   "source": []
  },
  {
   "cell_type": "code",
   "execution_count": 31,
   "id": "ceb5d751-5fc8-496f-90f2-e54a281603d8",
   "metadata": {},
   "outputs": [
    {
     "data": {
      "text/plain": [
       "DatasetDict({\n",
       "    train: Dataset({\n",
       "        features: ['input_values', 'input_length', 'labels'],\n",
       "        num_rows: 1818\n",
       "    })\n",
       "    dev: Dataset({\n",
       "        features: ['input_values', 'input_length', 'labels'],\n",
       "        num_rows: 360\n",
       "    })\n",
       "})"
      ]
     },
     "execution_count": 31,
     "metadata": {},
     "output_type": "execute_result"
    }
   ],
   "source": [
    "dataset"
   ]
  },
  {
   "cell_type": "code",
   "execution_count": null,
   "id": "d297b00e-eefb-491b-aae6-14b575959fbf",
   "metadata": {},
   "outputs": [],
   "source": []
  },
  {
   "cell_type": "code",
   "execution_count": 32,
   "id": "232d9cb4-4ceb-4ac3-b3f6-6a8910b6f51d",
   "metadata": {},
   "outputs": [
    {
     "name": "stderr",
     "output_type": "stream",
     "text": [
      "1818it [02:14, 13.53it/s]\n"
     ]
    }
   ],
   "source": [
    "# get the max length of the audio\n",
    "audio_length_list = []\n",
    "for idx, item in tqdm(enumerate(dataset['train'])):\n",
    "    audio_length_list.append(dataset['train'][idx]['input_length'])"
   ]
  },
  {
   "cell_type": "code",
   "execution_count": null,
   "id": "a1ce31bd-9b78-44b5-a43f-729fd7fbacfc",
   "metadata": {},
   "outputs": [],
   "source": []
  },
  {
   "cell_type": "code",
   "execution_count": 44,
   "id": "3485bb11-9636-4901-a34e-29fc0c47fff1",
   "metadata": {},
   "outputs": [
    {
     "data": {
      "image/png": "[encoded data removed]",
      "text/plain": [
       "<Figure size 432x288 with 1 Axes>"
      ]
     },
     "metadata": {
      "needs_background": "light"
     },
     "output_type": "display_data"
    }
   ],
   "source": [
    "# get the distribution of the audio length (in 16k sample)\n",
    "data_dist = pd.Series(audio_length_list)\n",
    "\n",
    "data_dist.plot.hist(grid=True, bins=20, rwidth=0.9, color='#607c8e')\n",
    "plt.title('Distribution')\n",
    "plt.xlabel('Counts')\n",
    "plt.ylabel('Number of inputs')\n",
    "plt.grid(axis='y', alpha=0.75)"
   ]
  },
  {
   "cell_type": "code",
   "execution_count": 48,
   "id": "1dc41e8c-47f2-4b9f-b840-a7309c383a2a",
   "metadata": {},
   "outputs": [
    {
     "data": {
      "image/png": "[encoded data removed]",
      "text/plain": [
       "<Figure size 432x288 with 1 Axes>"
      ]
     },
     "metadata": {
      "needs_background": "light"
     },
     "output_type": "display_data"
    }
   ],
   "source": [
    "# get the distribution of the audio length (in 16k sample)\n",
    "data_dist = pd.Series([audio_length/16000 for audio_length in audio_length_list])\n",
    "\n",
    "data_dist.plot.hist(grid=True, bins=20, rwidth=0.9, color='#607c8e')\n",
    "plt.title('Distribution')\n",
    "plt.xlabel('Counts')\n",
    "plt.ylabel('Number of inputs')\n",
    "plt.grid(axis='y', alpha=0.75)"
   ]
  },
  {
   "cell_type": "code",
   "execution_count": 47,
   "id": "6e166a4d-61c3-48dd-a4cb-7507531ea52f",
   "metadata": {},
   "outputs": [
    {
     "data": {
      "text/plain": [
       "28.125"
      ]
     },
     "execution_count": 47,
     "metadata": {},
     "output_type": "execute_result"
    }
   ],
   "source": [
    "450000/16000"
   ]
  },
  {
   "cell_type": "code",
   "execution_count": null,
   "id": "4ca131f8-d117-44cf-90d9-6873cc42f50f",
   "metadata": {},
   "outputs": [],
   "source": []
  }
 ],
 "metadata": {
  "kernelspec": {
   "display_name": "Python 3 (ipykernel)",
   "language": "python",
   "name": "python3"
  },
  "language_info": {
   "codemirror_mode": {
    "name": "ipython",
    "version": 3
   },
   "file_extension": ".py",
   "mimetype": "text/x-python",
   "name": "python",
   "nbconvert_exporter": "python",
   "pygments_lexer": "ipython3",
   "version": "3.7.11"
  }
 },
 "nbformat": 4,
 "nbformat_minor": 5
}
