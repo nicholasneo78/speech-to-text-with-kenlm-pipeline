{
 "cells": [
  {
   "cell_type": "code",
   "execution_count": 1,
   "id": "e73fce81-3ef5-4f56-863d-a9ced82a5f06",
   "metadata": {},
   "outputs": [],
   "source": [
    "# imports\n",
    "import os\n",
    "from os.path import join\n",
    "import numpy as np\n",
    "import pandas as pd\n",
    "import json\n",
    "import librosa\n",
    "from pathlib import Path\n",
    "import yaml\n",
    "from tqdm import tqdm\n",
    "import pickle\n",
    "from datasets import Dataset, DatasetDict\n",
    "from num2words import num2words"
   ]
  },
  {
   "cell_type": "code",
   "execution_count": 104,
   "id": "96a6e53e-d81a-4c95-bf97-05d31cb921fa",
   "metadata": {},
   "outputs": [],
   "source": [
    "# load the pickle data file\n",
    "with open('./pkl/magister_data_flac_16000_train.pkl', 'rb') as f:\n",
    "    df_train = pickle.load(f)\n",
    "\n",
    "with open('./pkl/magister_data_flac_16000_dev.pkl', 'rb') as f:\n",
    "    df_dev = pickle.load(f)"
   ]
  },
  {
   "cell_type": "code",
   "execution_count": 105,
   "id": "0986b73e-d24c-4d76-ad71-5180254cc1d4",
   "metadata": {},
   "outputs": [
    {
     "data": {
      "text/html": [
       "<div>\n",
       "<style scoped>\n",
       "    .dataframe tbody tr th:only-of-type {\n",
       "        vertical-align: middle;\n",
       "    }\n",
       "\n",
       "    .dataframe tbody tr th {\n",
       "        vertical-align: top;\n",
       "    }\n",
       "\n",
       "    .dataframe thead th {\n",
       "        text-align: right;\n",
       "    }\n",
       "</style>\n",
       "<table border=\"1\" class=\"dataframe\">\n",
       "  <thead>\n",
       "    <tr style=\"text-align: right;\">\n",
       "      <th></th>\n",
       "      <th>file</th>\n",
       "      <th>audio</th>\n",
       "      <th>text</th>\n",
       "    </tr>\n",
       "  </thead>\n",
       "  <tbody>\n",
       "    <tr>\n",
       "      <th>0</th>\n",
       "      <td>./datasets/magister_data_flac_16000_finetune/t...</td>\n",
       "      <td>{'array': [-0.00091552734, -0.0007324219, -0.0...</td>\n",
       "      <td>FCS GUNNERY BROADCAST POLICY SURFACE AND AIR F...</td>\n",
       "    </tr>\n",
       "    <tr>\n",
       "      <th>1</th>\n",
       "      <td>./datasets/magister_data_flac_16000_finetune/t...</td>\n",
       "      <td>{'array': [-0.00012207031, 0.00018310547, 0.00...</td>\n",
       "      <td>ROGER</td>\n",
       "    </tr>\n",
       "    <tr>\n",
       "      <th>2</th>\n",
       "      <td>./datasets/magister_data_flac_16000_finetune/t...</td>\n",
       "      <td>{'array': [0.0077209473, 0.009490967, 0.011291...</td>\n",
       "      <td>AGUN ENGAGE MISSILE NORTH AT TWO MILES</td>\n",
       "    </tr>\n",
       "    <tr>\n",
       "      <th>3</th>\n",
       "      <td>./datasets/magister_data_flac_16000_finetune/t...</td>\n",
       "      <td>{'array': [-0.0057373047, -0.0053100586, -0.00...</td>\n",
       "      <td>G P M G PROVIDE ONE BOX TWO FIVE ZERO ROUNDS L...</td>\n",
       "    </tr>\n",
       "    <tr>\n",
       "      <th>4</th>\n",
       "      <td>./datasets/magister_data_flac_16000_finetune/t...</td>\n",
       "      <td>{'array': [3.0517578e-05, -3.0517578e-05, -6.1...</td>\n",
       "      <td>OOW COME LEFT ZERO TWO ZERO INCREASE ONE TWO OOW</td>\n",
       "    </tr>\n",
       "    <tr>\n",
       "      <th>...</th>\n",
       "      <td>...</td>\n",
       "      <td>...</td>\n",
       "      <td>...</td>\n",
       "    </tr>\n",
       "    <tr>\n",
       "      <th>1813</th>\n",
       "      <td>./datasets/magister_data_flac_16000_finetune/t...</td>\n",
       "      <td>{'array': [0.008239746, 0.011108398, 0.0139770...</td>\n",
       "      <td>TPS PWO CHECK COPY</td>\n",
       "    </tr>\n",
       "    <tr>\n",
       "      <th>1814</th>\n",
       "      <td>./datasets/magister_data_flac_16000_finetune/t...</td>\n",
       "      <td>{'array': [0.0015563965, 0.0008544922, 0.00015...</td>\n",
       "      <td>AND FIRE ON PAC TARGET ZERO ZERO FOUR NINE K A...</td>\n",
       "    </tr>\n",
       "    <tr>\n",
       "      <th>1815</th>\n",
       "      <td>./datasets/magister_data_flac_16000_finetune/t...</td>\n",
       "      <td>{'array': [0.2989502, 0.3025818, 0.3062439, 0....</td>\n",
       "      <td># OW PWO COME LEFT TWO NINE ZERO WEPS THIS PWO...</td>\n",
       "    </tr>\n",
       "    <tr>\n",
       "      <th>1816</th>\n",
       "      <td>./datasets/magister_data_flac_16000_finetune/t...</td>\n",
       "      <td>{'array': [3.0517578e-05, -0.00024414062, -0.0...</td>\n",
       "      <td># ALL STATION # THIS PWO MISSIONS BRIEF AS FOL...</td>\n",
       "    </tr>\n",
       "    <tr>\n",
       "      <th>1817</th>\n",
       "      <td>./datasets/magister_data_flac_16000_finetune/t...</td>\n",
       "      <td>{'array': [0.04800415, -0.047058105, -0.142120...</td>\n",
       "      <td>REQUEST PERMISSION TO PROVIDE FIVE TP ROUND CO...</td>\n",
       "    </tr>\n",
       "  </tbody>\n",
       "</table>\n",
       "<p>1818 rows × 3 columns</p>\n",
       "</div>"
      ],
      "text/plain": [
       "                                                   file  \\\n",
       "0     ./datasets/magister_data_flac_16000_finetune/t...   \n",
       "1     ./datasets/magister_data_flac_16000_finetune/t...   \n",
       "2     ./datasets/magister_data_flac_16000_finetune/t...   \n",
       "3     ./datasets/magister_data_flac_16000_finetune/t...   \n",
       "4     ./datasets/magister_data_flac_16000_finetune/t...   \n",
       "...                                                 ...   \n",
       "1813  ./datasets/magister_data_flac_16000_finetune/t...   \n",
       "1814  ./datasets/magister_data_flac_16000_finetune/t...   \n",
       "1815  ./datasets/magister_data_flac_16000_finetune/t...   \n",
       "1816  ./datasets/magister_data_flac_16000_finetune/t...   \n",
       "1817  ./datasets/magister_data_flac_16000_finetune/t...   \n",
       "\n",
       "                                                  audio  \\\n",
       "0     {'array': [-0.00091552734, -0.0007324219, -0.0...   \n",
       "1     {'array': [-0.00012207031, 0.00018310547, 0.00...   \n",
       "2     {'array': [0.0077209473, 0.009490967, 0.011291...   \n",
       "3     {'array': [-0.0057373047, -0.0053100586, -0.00...   \n",
       "4     {'array': [3.0517578e-05, -3.0517578e-05, -6.1...   \n",
       "...                                                 ...   \n",
       "1813  {'array': [0.008239746, 0.011108398, 0.0139770...   \n",
       "1814  {'array': [0.0015563965, 0.0008544922, 0.00015...   \n",
       "1815  {'array': [0.2989502, 0.3025818, 0.3062439, 0....   \n",
       "1816  {'array': [3.0517578e-05, -0.00024414062, -0.0...   \n",
       "1817  {'array': [0.04800415, -0.047058105, -0.142120...   \n",
       "\n",
       "                                                   text  \n",
       "0     FCS GUNNERY BROADCAST POLICY SURFACE AND AIR F...  \n",
       "1                                                 ROGER  \n",
       "2                AGUN ENGAGE MISSILE NORTH AT TWO MILES  \n",
       "3     G P M G PROVIDE ONE BOX TWO FIVE ZERO ROUNDS L...  \n",
       "4      OOW COME LEFT ZERO TWO ZERO INCREASE ONE TWO OOW  \n",
       "...                                                 ...  \n",
       "1813                                 TPS PWO CHECK COPY  \n",
       "1814  AND FIRE ON PAC TARGET ZERO ZERO FOUR NINE K A...  \n",
       "1815  # OW PWO COME LEFT TWO NINE ZERO WEPS THIS PWO...  \n",
       "1816  # ALL STATION # THIS PWO MISSIONS BRIEF AS FOL...  \n",
       "1817  REQUEST PERMISSION TO PROVIDE FIVE TP ROUND CO...  \n",
       "\n",
       "[1818 rows x 3 columns]"
      ]
     },
     "execution_count": 105,
     "metadata": {},
     "output_type": "execute_result"
    }
   ],
   "source": [
    "df_train"
   ]
  },
  {
   "cell_type": "code",
   "execution_count": 106,
   "id": "2d37cfe3-c402-4055-88a3-4229162a84bf",
   "metadata": {},
   "outputs": [
    {
     "data": {
      "text/html": [
       "<div>\n",
       "<style scoped>\n",
       "    .dataframe tbody tr th:only-of-type {\n",
       "        vertical-align: middle;\n",
       "    }\n",
       "\n",
       "    .dataframe tbody tr th {\n",
       "        vertical-align: top;\n",
       "    }\n",
       "\n",
       "    .dataframe thead th {\n",
       "        text-align: right;\n",
       "    }\n",
       "</style>\n",
       "<table border=\"1\" class=\"dataframe\">\n",
       "  <thead>\n",
       "    <tr style=\"text-align: right;\">\n",
       "      <th></th>\n",
       "      <th>file</th>\n",
       "      <th>audio</th>\n",
       "      <th>text</th>\n",
       "    </tr>\n",
       "  </thead>\n",
       "  <tbody>\n",
       "    <tr>\n",
       "      <th>0</th>\n",
       "      <td>./datasets/magister_data_flac_16000_finetune/d...</td>\n",
       "      <td>{'array': [0.01727295, 0.01184082, 0.006408691...</td>\n",
       "      <td>FOXTROT ONE DELTA THIS IS ALFA FOUR QUEBEC SHO...</td>\n",
       "    </tr>\n",
       "    <tr>\n",
       "      <th>1</th>\n",
       "      <td>./datasets/magister_data_flac_16000_finetune/d...</td>\n",
       "      <td>{'array': [0.0015258789, 0.001159668, 0.000793...</td>\n",
       "      <td>FOXTROT ONE DELTA THIS IS ALFA FOUR QUEBEC SHO...</td>\n",
       "    </tr>\n",
       "    <tr>\n",
       "      <th>2</th>\n",
       "      <td>./datasets/magister_data_flac_16000_finetune/d...</td>\n",
       "      <td>{'array': [0.005645752, 0.004852295, 0.0040588...</td>\n",
       "      <td>ALFA FOUR QUEBEC # POSITIONING # FOR P A C RUN...</td>\n",
       "    </tr>\n",
       "    <tr>\n",
       "      <th>3</th>\n",
       "      <td>./datasets/magister_data_flac_16000_finetune/d...</td>\n",
       "      <td>{'array': [0.001739502, 0.0017700195, 0.001831...</td>\n",
       "      <td>ALL IN THIS IS PWO INTEND CONTINUES FIRING NO ...</td>\n",
       "    </tr>\n",
       "    <tr>\n",
       "      <th>4</th>\n",
       "      <td>./datasets/magister_data_flac_16000_finetune/d...</td>\n",
       "      <td>{'array': [0.0011291504, 0.0005493164, 0.0, 0....</td>\n",
       "      <td>FOXTROT ONE DELTA THIS IS ALFA FOUR QUEBEC COM...</td>\n",
       "    </tr>\n",
       "  </tbody>\n",
       "</table>\n",
       "</div>"
      ],
      "text/plain": [
       "                                                file  \\\n",
       "0  ./datasets/magister_data_flac_16000_finetune/d...   \n",
       "1  ./datasets/magister_data_flac_16000_finetune/d...   \n",
       "2  ./datasets/magister_data_flac_16000_finetune/d...   \n",
       "3  ./datasets/magister_data_flac_16000_finetune/d...   \n",
       "4  ./datasets/magister_data_flac_16000_finetune/d...   \n",
       "\n",
       "                                               audio  \\\n",
       "0  {'array': [0.01727295, 0.01184082, 0.006408691...   \n",
       "1  {'array': [0.0015258789, 0.001159668, 0.000793...   \n",
       "2  {'array': [0.005645752, 0.004852295, 0.0040588...   \n",
       "3  {'array': [0.001739502, 0.0017700195, 0.001831...   \n",
       "4  {'array': [0.0011291504, 0.0005493164, 0.0, 0....   \n",
       "\n",
       "                                                text  \n",
       "0  FOXTROT ONE DELTA THIS IS ALFA FOUR QUEBEC SHO...  \n",
       "1  FOXTROT ONE DELTA THIS IS ALFA FOUR QUEBEC SHO...  \n",
       "2  ALFA FOUR QUEBEC # POSITIONING # FOR P A C RUN...  \n",
       "3  ALL IN THIS IS PWO INTEND CONTINUES FIRING NO ...  \n",
       "4  FOXTROT ONE DELTA THIS IS ALFA FOUR QUEBEC COM...  "
      ]
     },
     "execution_count": 106,
     "metadata": {},
     "output_type": "execute_result"
    }
   ],
   "source": [
    "df_dev.head()"
   ]
  },
  {
   "cell_type": "code",
   "execution_count": null,
   "id": "1e5ac00d-acd2-454c-8189-9c3e1b5c8d2e",
   "metadata": {},
   "outputs": [],
   "source": []
  },
  {
   "cell_type": "code",
   "execution_count": 107,
   "id": "efc5b595-9f2e-4409-aff4-93ba72fa83d6",
   "metadata": {},
   "outputs": [],
   "source": [
    "# from now on load the data from the pickle file and not from the dataset class from huggingface"
   ]
  },
  {
   "cell_type": "code",
   "execution_count": null,
   "id": "2aaac4ed-7bea-449b-84e0-addeca9192f2",
   "metadata": {},
   "outputs": [],
   "source": []
  },
  {
   "cell_type": "code",
   "execution_count": 108,
   "id": "2420b855-1e66-4ee1-a6b6-90aae50d0bdb",
   "metadata": {},
   "outputs": [
    {
     "data": {
      "text/plain": [
       "'./datasets/magister_data_flac_16000_finetune/dev/11251/314114000/11251-314114000-0045.flac'"
      ]
     },
     "execution_count": 108,
     "metadata": {},
     "output_type": "execute_result"
    }
   ],
   "source": [
    "df_dev['file'][0]"
   ]
  },
  {
   "cell_type": "code",
   "execution_count": 109,
   "id": "3674905b-de7f-46be-b491-06d499f76971",
   "metadata": {},
   "outputs": [
    {
     "data": {
      "text/plain": [
       "array([ 0.01727295,  0.01184082,  0.00640869,  0.00616455,  0.00592041,\n",
       "        0.00735474,  0.00881958,  0.00918579,  0.009552  ,  0.00881958,\n",
       "        0.00811768,  0.00979614,  0.01147461,  0.01074219,  0.01000977,\n",
       "        0.0083313 ,  0.00668335,  0.0062561 ,  0.00582886,  0.00094604,\n",
       "       -0.00390625, -0.00979614, -0.01565552, -0.01123047, -0.0067749 ],\n",
       "      dtype=float32)"
      ]
     },
     "execution_count": 109,
     "metadata": {},
     "output_type": "execute_result"
    }
   ],
   "source": [
    "df_dev['audio'][0]['array'][:25]"
   ]
  },
  {
   "cell_type": "code",
   "execution_count": null,
   "id": "59313418-6e5e-45a1-a7c3-489be39b4927",
   "metadata": {},
   "outputs": [],
   "source": []
  },
  {
   "cell_type": "code",
   "execution_count": 110,
   "id": "14d7cc22-93a7-47e7-8c43-2d6c4ed2562c",
   "metadata": {},
   "outputs": [],
   "source": [
    "# extract all characters available in the annotations\n",
    "def extract_all_chars(batch):\n",
    "    all_text = \" \".join(batch[\"text\"])\n",
    "    vocab = list(set(all_text))\n",
    "    return vocab"
   ]
  },
  {
   "cell_type": "code",
   "execution_count": 111,
   "id": "78448ee4-9d75-4de0-ab4e-8fe96f33a51b",
   "metadata": {},
   "outputs": [
    {
     "name": "stdout",
     "output_type": "stream",
     "text": [
      "36\n"
     ]
    },
    {
     "data": {
      "text/plain": [
       "['N',\n",
       " 'H',\n",
       " '5',\n",
       " 'O',\n",
       " 'E',\n",
       " 'P',\n",
       " 'C',\n",
       " 'D',\n",
       " 'B',\n",
       " 'A',\n",
       " \"'\",\n",
       " 'R',\n",
       " 'X',\n",
       " 'S',\n",
       " 'F',\n",
       " 'L',\n",
       " 'G',\n",
       " ' ',\n",
       " 'W',\n",
       " '4',\n",
       " 'T',\n",
       " 'Y',\n",
       " 'K',\n",
       " 'Z',\n",
       " 'Q',\n",
       " '8',\n",
       " 'M',\n",
       " 'V',\n",
       " '2',\n",
       " '9',\n",
       " '1',\n",
       " '0',\n",
       " 'I',\n",
       " 'U',\n",
       " '#',\n",
       " 'J']"
      ]
     },
     "execution_count": 111,
     "metadata": {},
     "output_type": "execute_result"
    }
   ],
   "source": [
    "# extract characters from train dataset\n",
    "vocabs_train = extract_all_chars(df_train)\n",
    "print(len(vocabs_train))\n",
    "vocabs_train"
   ]
  },
  {
   "cell_type": "code",
   "execution_count": 112,
   "id": "7b6ee110-a5f3-4796-b566-08bcb042ba10",
   "metadata": {},
   "outputs": [
    {
     "name": "stdout",
     "output_type": "stream",
     "text": [
      "30\n"
     ]
    },
    {
     "data": {
      "text/plain": [
       "['N',\n",
       " 'H',\n",
       " 'O',\n",
       " 'E',\n",
       " 'P',\n",
       " 'C',\n",
       " 'D',\n",
       " 'B',\n",
       " 'A',\n",
       " \"'\",\n",
       " 'R',\n",
       " 'X',\n",
       " 'S',\n",
       " 'F',\n",
       " 'L',\n",
       " 'G',\n",
       " ' ',\n",
       " 'W',\n",
       " 'T',\n",
       " 'Y',\n",
       " 'K',\n",
       " 'Z',\n",
       " 'Q',\n",
       " 'M',\n",
       " 'V',\n",
       " '2',\n",
       " 'I',\n",
       " 'U',\n",
       " '#',\n",
       " 'J']"
      ]
     },
     "execution_count": 112,
     "metadata": {},
     "output_type": "execute_result"
    }
   ],
   "source": [
    "# extract characters from train dataset\n",
    "vocabs_dev = extract_all_chars(df_dev)\n",
    "print(len(vocabs_dev))\n",
    "vocabs_dev"
   ]
  },
  {
   "cell_type": "code",
   "execution_count": null,
   "id": "667cbf90-000b-4174-8f41-6ee7f2cad9e9",
   "metadata": {},
   "outputs": [],
   "source": []
  },
  {
   "cell_type": "code",
   "execution_count": 66,
   "id": "76d3f787-c0ae-4856-b0eb-3aa2918d92d1",
   "metadata": {},
   "outputs": [],
   "source": [
    "text = \"while test 24 find the 119 squad see saw 1542 100 0 292 39 -5\""
   ]
  },
  {
   "cell_type": "code",
   "execution_count": 64,
   "id": "2e566471-cd03-4ce6-9ba9-54c4ad8c98aa",
   "metadata": {},
   "outputs": [
    {
     "data": {
      "text/plain": [
       "['while',\n",
       " 'test',\n",
       " '24',\n",
       " 'find',\n",
       " 'the',\n",
       " '119',\n",
       " 'squad',\n",
       " 'see',\n",
       " 'saw',\n",
       " '1542',\n",
       " '100',\n",
       " '0',\n",
       " '292',\n",
       " '39',\n",
       " '-',\n",
       " '5']"
      ]
     },
     "execution_count": 64,
     "metadata": {},
     "output_type": "execute_result"
    }
   ],
   "source": [
    "text_list = text.split()\n",
    "text_list"
   ]
  },
  {
   "cell_type": "code",
   "execution_count": 65,
   "id": "68a873f7-2ab0-475b-a90d-5cabd3318e9d",
   "metadata": {},
   "outputs": [
    {
     "name": "stdout",
     "output_type": "stream",
     "text": [
      "error\n",
      "error\n",
      "error\n",
      "error\n",
      "error\n",
      "error\n",
      "error\n",
      "error\n"
     ]
    }
   ],
   "source": [
    "for idx, t in enumerate(text_list):\n",
    "    try:\n",
    "        if float(t) <= 100:\n",
    "            text_list[idx] = num2words(t)\n",
    "        else:\n",
    "            sep_num_list = []\n",
    "            for k in list(t):\n",
    "                sep_num_list.append(num2words(k))\n",
    "            text_list[idx] = sep_num_list\n",
    "    except:\n",
    "        print('error')\n",
    "        continue"
   ]
  },
  {
   "cell_type": "code",
   "execution_count": 62,
   "id": "da70e234-ce75-4455-9cab-e6af246d6ab9",
   "metadata": {},
   "outputs": [
    {
     "data": {
      "text/plain": [
       "['while',\n",
       " 'test',\n",
       " 'twenty-four',\n",
       " 'find',\n",
       " 'the',\n",
       " ['one', 'one', 'nine'],\n",
       " 'squad',\n",
       " 'see',\n",
       " 'saw',\n",
       " ['one', 'five', 'four', 'two'],\n",
       " 'one hundred',\n",
       " 'zero',\n",
       " ['two', 'nine', 'two'],\n",
       " 'thirty-nine',\n",
       " 'minus five']"
      ]
     },
     "execution_count": 62,
     "metadata": {},
     "output_type": "execute_result"
    }
   ],
   "source": [
    "text_list"
   ]
  },
  {
   "cell_type": "code",
   "execution_count": null,
   "id": "306f542f-a11b-4665-97cc-b1746ff9b3f6",
   "metadata": {},
   "outputs": [],
   "source": []
  },
  {
   "cell_type": "code",
   "execution_count": null,
   "id": "fd83d682-0f43-4f16-81bc-18737b53a72e",
   "metadata": {},
   "outputs": [],
   "source": []
  },
  {
   "cell_type": "code",
   "execution_count": 18,
   "id": "a98fbea2-6418-43c8-9ced-a21a2ddfbf00",
   "metadata": {},
   "outputs": [
    {
     "data": {
      "text/plain": [
       "'TWENTY-FIVE'"
      ]
     },
     "execution_count": 18,
     "metadata": {},
     "output_type": "execute_result"
    }
   ],
   "source": [
    "num2words('25').upper()"
   ]
  },
  {
   "cell_type": "code",
   "execution_count": null,
   "id": "efd31ede-9af2-40a9-b28c-24f91ef6b31c",
   "metadata": {},
   "outputs": [],
   "source": []
  }
 ],
 "metadata": {
  "kernelspec": {
   "display_name": "Python 3 (ipykernel)",
   "language": "python",
   "name": "python3"
  },
  "language_info": {
   "codemirror_mode": {
    "name": "ipython",
    "version": 3
   },
   "file_extension": ".py",
   "mimetype": "text/x-python",
   "name": "python",
   "nbconvert_exporter": "python",
   "pygments_lexer": "ipython3",
   "version": "3.7.11"
  }
 },
 "nbformat": 4,
 "nbformat_minor": 5
}
