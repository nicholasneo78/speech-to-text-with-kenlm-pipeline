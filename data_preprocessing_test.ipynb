{
 "cells": [
  {
   "cell_type": "code",
   "execution_count": 1,
   "metadata": {},
   "outputs": [],
   "source": [
    "# imports\n",
    "import os\n",
    "from os.path import join\n",
    "import numpy as np\n",
    "import pandas as pd\n",
    "import json\n",
    "import librosa\n",
    "from pathlib import Path\n",
    "import yaml\n",
    "from tqdm import tqdm"
   ]
  },
  {
   "cell_type": "code",
   "execution_count": 2,
   "metadata": {},
   "outputs": [],
   "source": [
    "# get the filepath of the file\n"
   ]
  },
  {
   "cell_type": "code",
   "execution_count": 19,
   "metadata": {},
   "outputs": [],
   "source": [
    "# adopt from previous class\n",
    "class GenerateManifest():\n",
    "    \n",
    "    def __init__(self, root_folder, manifest_filename, got_annotation):\n",
    "        self.root_folder = root_folder\n",
    "        self.manifest_filename = manifest_filename\n",
    "        self.got_annotation = got_annotation\n",
    "    \n",
    "    # check if the json file name already existed (if existed, need to throw error or else the new json manifest will be appended to the old one, hence causing a file corruption)\n",
    "    def json_existence(self):\n",
    "        assert not os.path.isfile(f'{self.manifest_filename}'), \"json filename exists! Please remove old json file!\"\n",
    "    \n",
    "    # helper function to build the lookup table for the id and annotations from all the text files and return the table\n",
    "    def build_lookup_table(self):\n",
    "        #initiate list to store the id and annotations lookup\n",
    "        split_list_frame = []\n",
    "\n",
    "        # get all the annotations into a dataframe\n",
    "        for root, subdirs, files in os.walk(self.root_folder):\n",
    "            for file in files:\n",
    "                if file.endswith(\".txt\"):\n",
    "                    # add on to the code here\n",
    "                    df = pd.read_csv(os.path.join(root, file), header=None)\n",
    "                    df.columns = ['name']\n",
    "\n",
    "                    for i,j in enumerate(df.name):\n",
    "                        split_list = j.split(\" \",1)\n",
    "                        split_list_frame.append(split_list)\n",
    "\n",
    "        df_new = pd.DataFrame(split_list_frame, columns=['id', 'annotations']) # id and annotations are just dummy headers here\n",
    "        return df_new\n",
    "    \n",
    "    # helper function to create the json manifest file\n",
    "    def create_json_manifest(self):\n",
    "        data_list = []\n",
    "        \n",
    "        # check if the json filename have existed in the directory\n",
    "        self.json_existence()\n",
    "        \n",
    "        if self.got_annotation:\n",
    "            # get the lookup table\n",
    "            df_new = self.build_lookup_table()\n",
    "\n",
    "        # retrieve the dataframe lookup table\n",
    "        for root, subdirs, files in os.walk(self.root_folder):\n",
    "            \n",
    "            # since self.root_folder is a subset of the root, can just replace self.root with empty string\n",
    "            modified_root_ = str(Path(root)).replace(str(Path(self.root_folder)), '')\n",
    "            # replace the slash with empty string after Path standardization\n",
    "            modified_root = modified_root_.replace('/', '', 1)\n",
    "\n",
    "            for _, file in enumerate(files):\n",
    "                if file.endswith(\".flac\"):\n",
    "                    # retrieve the base path for the particular audio file\n",
    "                    base_path = os.path.basename(os.path.join(root, file)).split('.')[0]\n",
    "                    \n",
    "                    audio_array, _ = librosa.load(os.path.join(root, file), sr=None)\n",
    "                    \n",
    "                    # create the dictionary that is to be appended to the json file\n",
    "                    if self.got_annotation:\n",
    "                        data = {\n",
    "                                # 'audio_filepath' : os.path.join(modified_root, file),\n",
    "                                'audio_filepath' : os.path.join(root, file),\n",
    "                                'duration' : librosa.get_duration(filename=os.path.join(root, file)),\n",
    "                                'text' : df_new.loc[df_new['id'] == base_path, 'annotations'].to_numpy()[0].replace('<FIL>', '&').replace('  ', ' '),\n",
    "                                'array' : {'audio': audio_array, 'path': os.path.join(root, file)}\n",
    "                                }\n",
    "                        #print(data)\n",
    "                        data_list.append(data)\n",
    "                    else:\n",
    "                        data = {\n",
    "                                'audio_filepath' : os.path.join(modified_root, file),\n",
    "                                'duration' : librosa.get_duration(filename=os.path.join(root, file)),\n",
    "                               }\n",
    "\n",
    "                    # write to json file\n",
    "                    #with open(f'{self.root_folder}{self.manifest_filename}', 'a+', encoding='utf-8') as f:\n",
    "                    # with open(f'{self.manifest_filename}', 'a+', encoding='utf-8') as f:\n",
    "                    #     f.write(json.dumps(data) + '\\n')\n",
    "                        # json.dump(data, f, ensure_ascii=False, indent=2)\n",
    "                        # f.write('\\n')\n",
    "\n",
    "        return f'{self.manifest_filename}', data_list\n",
    "\n",
    "    def __call__(self):\n",
    "        return self.create_json_manifest()"
   ]
  },
  {
   "cell_type": "code",
   "execution_count": 20,
   "metadata": {},
   "outputs": [],
   "source": [
    "get_manifest_a = GenerateManifest(root_folder='datasets/magister_data_flac_16000/train', \n",
    "                                    manifest_filename='test2.json', \n",
    "                                    got_annotation=True)\n",
    "get_manifest_b = GenerateManifest(root_folder='datasets/magister_data_flac_16000/dev', \n",
    "                                    manifest_filename='test2.json', \n",
    "                                    got_annotation=True)"
   ]
  },
  {
   "cell_type": "code",
   "execution_count": 21,
   "metadata": {},
   "outputs": [],
   "source": [
    "_,a = get_manifest_a()\n",
    "_,b = get_manifest_b()"
   ]
  },
  {
   "cell_type": "code",
   "execution_count": null,
   "metadata": {},
   "outputs": [],
   "source": []
  },
  {
   "cell_type": "code",
   "execution_count": 22,
   "metadata": {},
   "outputs": [],
   "source": [
    "from datasets import Dataset, DatasetDict"
   ]
  },
  {
   "cell_type": "code",
   "execution_count": 23,
   "metadata": {},
   "outputs": [],
   "source": [
    "df_a = pd.DataFrame(a)\n",
    "df_b = pd.DataFrame(b)\n",
    "\n",
    "dataset_a = Dataset.from_pandas(df_a)\n",
    "dataset_b = Dataset.from_pandas(df_b)"
   ]
  },
  {
   "cell_type": "code",
   "execution_count": 24,
   "metadata": {},
   "outputs": [
    {
     "data": {
      "text/html": [
       "<div>\n",
       "<style scoped>\n",
       "    .dataframe tbody tr th:only-of-type {\n",
       "        vertical-align: middle;\n",
       "    }\n",
       "\n",
       "    .dataframe tbody tr th {\n",
       "        vertical-align: top;\n",
       "    }\n",
       "\n",
       "    .dataframe thead th {\n",
       "        text-align: right;\n",
       "    }\n",
       "</style>\n",
       "<table border=\"1\" class=\"dataframe\">\n",
       "  <thead>\n",
       "    <tr style=\"text-align: right;\">\n",
       "      <th></th>\n",
       "      <th>audio_filepath</th>\n",
       "      <th>duration</th>\n",
       "      <th>text</th>\n",
       "      <th>array</th>\n",
       "    </tr>\n",
       "  </thead>\n",
       "  <tbody>\n",
       "    <tr>\n",
       "      <th>0</th>\n",
       "      <td>datasets/magister_data_flac_16000/train/11056/...</td>\n",
       "      <td>6.084812</td>\n",
       "      <td>FCS GUNNERY BROADCAST POLICY SURFACE AND AIR F...</td>\n",
       "      <td>{'audio': [-0.00091552734, -0.0007324219, -0.0...</td>\n",
       "    </tr>\n",
       "    <tr>\n",
       "      <th>1</th>\n",
       "      <td>datasets/magister_data_flac_16000/train/11056/...</td>\n",
       "      <td>0.983313</td>\n",
       "      <td>ROGER</td>\n",
       "      <td>{'audio': [-0.00012207031, 0.00018310547, 0.00...</td>\n",
       "    </tr>\n",
       "    <tr>\n",
       "      <th>2</th>\n",
       "      <td>datasets/magister_data_flac_16000/train/11056/...</td>\n",
       "      <td>3.094813</td>\n",
       "      <td>AGUN ENGAGE MISSILE NORTH AT TWO MILES</td>\n",
       "      <td>{'audio': [0.0077209473, 0.009490967, 0.011291...</td>\n",
       "    </tr>\n",
       "    <tr>\n",
       "      <th>3</th>\n",
       "      <td>datasets/magister_data_flac_16000/train/11056/...</td>\n",
       "      <td>8.364937</td>\n",
       "      <td>G P M G PROVIDE ONE BOX TWO FIVE ZERO ROUNDS L...</td>\n",
       "      <td>{'audio': [-0.0057373047, -0.0053100586, -0.00...</td>\n",
       "    </tr>\n",
       "    <tr>\n",
       "      <th>4</th>\n",
       "      <td>datasets/magister_data_flac_16000/train/11056/...</td>\n",
       "      <td>4.495687</td>\n",
       "      <td>OOW COME LEFT ZERO TWO ZERO INCREASE ONE TWO OOW</td>\n",
       "      <td>{'audio': [3.0517578e-05, -3.0517578e-05, -6.1...</td>\n",
       "    </tr>\n",
       "  </tbody>\n",
       "</table>\n",
       "</div>"
      ],
      "text/plain": [
       "                                      audio_filepath  duration  \\\n",
       "0  datasets/magister_data_flac_16000/train/11056/...  6.084812   \n",
       "1  datasets/magister_data_flac_16000/train/11056/...  0.983313   \n",
       "2  datasets/magister_data_flac_16000/train/11056/...  3.094813   \n",
       "3  datasets/magister_data_flac_16000/train/11056/...  8.364937   \n",
       "4  datasets/magister_data_flac_16000/train/11056/...  4.495687   \n",
       "\n",
       "                                                text  \\\n",
       "0  FCS GUNNERY BROADCAST POLICY SURFACE AND AIR F...   \n",
       "1                                              ROGER   \n",
       "2             AGUN ENGAGE MISSILE NORTH AT TWO MILES   \n",
       "3  G P M G PROVIDE ONE BOX TWO FIVE ZERO ROUNDS L...   \n",
       "4   OOW COME LEFT ZERO TWO ZERO INCREASE ONE TWO OOW   \n",
       "\n",
       "                                               array  \n",
       "0  {'audio': [-0.00091552734, -0.0007324219, -0.0...  \n",
       "1  {'audio': [-0.00012207031, 0.00018310547, 0.00...  \n",
       "2  {'audio': [0.0077209473, 0.009490967, 0.011291...  \n",
       "3  {'audio': [-0.0057373047, -0.0053100586, -0.00...  \n",
       "4  {'audio': [3.0517578e-05, -3.0517578e-05, -6.1...  "
      ]
     },
     "execution_count": 24,
     "metadata": {},
     "output_type": "execute_result"
    }
   ],
   "source": [
    "df_a.head()"
   ]
  },
  {
   "cell_type": "code",
   "execution_count": 25,
   "metadata": {},
   "outputs": [
    {
     "data": {
      "text/html": [
       "<div>\n",
       "<style scoped>\n",
       "    .dataframe tbody tr th:only-of-type {\n",
       "        vertical-align: middle;\n",
       "    }\n",
       "\n",
       "    .dataframe tbody tr th {\n",
       "        vertical-align: top;\n",
       "    }\n",
       "\n",
       "    .dataframe thead th {\n",
       "        text-align: right;\n",
       "    }\n",
       "</style>\n",
       "<table border=\"1\" class=\"dataframe\">\n",
       "  <thead>\n",
       "    <tr style=\"text-align: right;\">\n",
       "      <th></th>\n",
       "      <th>audio_filepath</th>\n",
       "      <th>duration</th>\n",
       "      <th>text</th>\n",
       "      <th>array</th>\n",
       "    </tr>\n",
       "  </thead>\n",
       "  <tbody>\n",
       "    <tr>\n",
       "      <th>0</th>\n",
       "      <td>datasets/magister_data_flac_16000/dev/11251/31...</td>\n",
       "      <td>19.898937</td>\n",
       "      <td>FOXTROT ONE DELTA THIS IS ALFA FOUR QUEBEC SHO...</td>\n",
       "      <td>{'audio': [0.01727295, 0.01184082, 0.006408691...</td>\n",
       "    </tr>\n",
       "    <tr>\n",
       "      <th>1</th>\n",
       "      <td>datasets/magister_data_flac_16000/dev/11251/31...</td>\n",
       "      <td>6.426563</td>\n",
       "      <td>FOXTROT ONE DELTA THIS IS ALFA FOUR QUEBEC SHO...</td>\n",
       "      <td>{'audio': [0.0015258789, 0.001159668, 0.000793...</td>\n",
       "    </tr>\n",
       "    <tr>\n",
       "      <th>2</th>\n",
       "      <td>datasets/magister_data_flac_16000/dev/11251/31...</td>\n",
       "      <td>6.191813</td>\n",
       "      <td>ALFA FOUR QUEBEC &amp; POSITIONING &amp; FOR P A C RUN...</td>\n",
       "      <td>{'audio': [0.005645752, 0.004852295, 0.0040588...</td>\n",
       "    </tr>\n",
       "    <tr>\n",
       "      <th>3</th>\n",
       "      <td>datasets/magister_data_flac_16000/dev/11251/31...</td>\n",
       "      <td>25.105563</td>\n",
       "      <td>ALL IN THIS IS PWO INTEND CONTINUES FIRING NO ...</td>\n",
       "      <td>{'audio': [0.001739502, 0.0017700195, 0.001831...</td>\n",
       "    </tr>\n",
       "    <tr>\n",
       "      <th>4</th>\n",
       "      <td>datasets/magister_data_flac_16000/dev/11251/31...</td>\n",
       "      <td>11.548937</td>\n",
       "      <td>FOXTROT ONE DELTA THIS IS ALFA FOUR QUEBEC COM...</td>\n",
       "      <td>{'audio': [0.0011291504, 0.0005493164, 0.0, 0....</td>\n",
       "    </tr>\n",
       "  </tbody>\n",
       "</table>\n",
       "</div>"
      ],
      "text/plain": [
       "                                      audio_filepath   duration  \\\n",
       "0  datasets/magister_data_flac_16000/dev/11251/31...  19.898937   \n",
       "1  datasets/magister_data_flac_16000/dev/11251/31...   6.426563   \n",
       "2  datasets/magister_data_flac_16000/dev/11251/31...   6.191813   \n",
       "3  datasets/magister_data_flac_16000/dev/11251/31...  25.105563   \n",
       "4  datasets/magister_data_flac_16000/dev/11251/31...  11.548937   \n",
       "\n",
       "                                                text  \\\n",
       "0  FOXTROT ONE DELTA THIS IS ALFA FOUR QUEBEC SHO...   \n",
       "1  FOXTROT ONE DELTA THIS IS ALFA FOUR QUEBEC SHO...   \n",
       "2  ALFA FOUR QUEBEC & POSITIONING & FOR P A C RUN...   \n",
       "3  ALL IN THIS IS PWO INTEND CONTINUES FIRING NO ...   \n",
       "4  FOXTROT ONE DELTA THIS IS ALFA FOUR QUEBEC COM...   \n",
       "\n",
       "                                               array  \n",
       "0  {'audio': [0.01727295, 0.01184082, 0.006408691...  \n",
       "1  {'audio': [0.0015258789, 0.001159668, 0.000793...  \n",
       "2  {'audio': [0.005645752, 0.004852295, 0.0040588...  \n",
       "3  {'audio': [0.001739502, 0.0017700195, 0.001831...  \n",
       "4  {'audio': [0.0011291504, 0.0005493164, 0.0, 0....  "
      ]
     },
     "execution_count": 25,
     "metadata": {},
     "output_type": "execute_result"
    }
   ],
   "source": [
    "df_b.head()"
   ]
  },
  {
   "cell_type": "code",
   "execution_count": null,
   "metadata": {},
   "outputs": [],
   "source": []
  },
  {
   "cell_type": "code",
   "execution_count": 27,
   "metadata": {},
   "outputs": [
    {
     "data": {
      "text/plain": [
       "((1818, 4), (360, 4))"
      ]
     },
     "execution_count": 27,
     "metadata": {},
     "output_type": "execute_result"
    }
   ],
   "source": [
    "df_a.shape, df_b.shape"
   ]
  },
  {
   "cell_type": "code",
   "execution_count": null,
   "metadata": {},
   "outputs": [],
   "source": []
  },
  {
   "cell_type": "code",
   "execution_count": 8,
   "metadata": {},
   "outputs": [],
   "source": [
    "dataset = DatasetDict({'train': dataset_a, 'test': dataset_b})"
   ]
  },
  {
   "cell_type": "code",
   "execution_count": null,
   "metadata": {},
   "outputs": [],
   "source": []
  },
  {
   "cell_type": "code",
   "execution_count": 9,
   "metadata": {},
   "outputs": [
    {
     "data": {
      "text/plain": [
       "DatasetDict({\n",
       "    train: Dataset({\n",
       "        features: ['audio_filepath', 'duration', 'text', 'array'],\n",
       "        num_rows: 22\n",
       "    })\n",
       "    test: Dataset({\n",
       "        features: ['audio_filepath', 'duration', 'text', 'array'],\n",
       "        num_rows: 2\n",
       "    })\n",
       "})"
      ]
     },
     "execution_count": 9,
     "metadata": {},
     "output_type": "execute_result"
    }
   ],
   "source": [
    "dataset"
   ]
  },
  {
   "cell_type": "code",
   "execution_count": null,
   "metadata": {},
   "outputs": [],
   "source": []
  },
  {
   "cell_type": "code",
   "execution_count": 10,
   "metadata": {},
   "outputs": [
    {
     "data": {
      "text/plain": [
       "61227"
      ]
     },
     "execution_count": 10,
     "metadata": {},
     "output_type": "execute_result"
    }
   ],
   "source": [
    "len(dataset['train']['array'][20]['audio'])"
   ]
  },
  {
   "cell_type": "code",
   "execution_count": 11,
   "metadata": {},
   "outputs": [
    {
     "data": {
      "text/plain": [
       "[0.00048828125,\n",
       " 0.000701904296875,\n",
       " 0.00091552734375,\n",
       " 0.0013427734375,\n",
       " 0.001800537109375,\n",
       " 0.00146484375,\n",
       " 0.001129150390625,\n",
       " 0.000640869140625,\n",
       " 0.00018310546875,\n",
       " 6.103515625e-05,\n",
       " -6.103515625e-05,\n",
       " 0.000518798828125,\n",
       " 0.0010986328125,\n",
       " 0.000885009765625,\n",
       " 0.000701904296875,\n",
       " 0.000396728515625,\n",
       " 9.1552734375e-05,\n",
       " 0.000152587890625,\n",
       " 0.000213623046875,\n",
       " 0.00054931640625,\n",
       " 0.00091552734375,\n",
       " 0.001922607421875,\n",
       " 0.002960205078125,\n",
       " 0.002197265625,\n",
       " 0.001434326171875,\n",
       " 0.00146484375,\n",
       " 0.001495361328125,\n",
       " 0.00177001953125,\n",
       " 0.002044677734375,\n",
       " 0.000640869140625]"
      ]
     },
     "execution_count": 11,
     "metadata": {},
     "output_type": "execute_result"
    }
   ],
   "source": [
    "dataset['train']['array'][20]['audio'][:30]"
   ]
  },
  {
   "cell_type": "code",
   "execution_count": null,
   "metadata": {},
   "outputs": [],
   "source": []
  },
  {
   "cell_type": "code",
   "execution_count": null,
   "metadata": {},
   "outputs": [],
   "source": []
  },
  {
   "cell_type": "code",
   "execution_count": null,
   "metadata": {},
   "outputs": [],
   "source": []
  },
  {
   "cell_type": "code",
   "execution_count": 12,
   "metadata": {},
   "outputs": [
    {
     "ename": "KeyError",
     "evalue": "'array'",
     "output_type": "error",
     "traceback": [
      "\u001b[0;31m---------------------------------------------------------------------------\u001b[0m",
      "\u001b[0;31mKeyError\u001b[0m                                  Traceback (most recent call last)",
      "\u001b[0;32m/tmp/ipykernel_18/316925057.py\u001b[0m in \u001b[0;36m<module>\u001b[0;34m\u001b[0m\n\u001b[0;32m----> 1\u001b[0;31m \u001b[0mdataset\u001b[0m\u001b[0;34m[\u001b[0m\u001b[0;34m'array'\u001b[0m\u001b[0;34m]\u001b[0m\u001b[0;34m[\u001b[0m\u001b[0;36m0\u001b[0m\u001b[0;34m]\u001b[0m\u001b[0;34m[\u001b[0m\u001b[0;34m'path'\u001b[0m\u001b[0;34m]\u001b[0m\u001b[0;34m\u001b[0m\u001b[0;34m\u001b[0m\u001b[0m\n\u001b[0m",
      "\u001b[0;32m/opt/conda/lib/python3.7/site-packages/datasets/dataset_dict.py\u001b[0m in \u001b[0;36m__getitem__\u001b[0;34m(self, k)\u001b[0m\n\u001b[1;32m     39\u001b[0m     \u001b[0;32mdef\u001b[0m \u001b[0m__getitem__\u001b[0m\u001b[0;34m(\u001b[0m\u001b[0mself\u001b[0m\u001b[0;34m,\u001b[0m \u001b[0mk\u001b[0m\u001b[0;34m)\u001b[0m \u001b[0;34m->\u001b[0m \u001b[0mDataset\u001b[0m\u001b[0;34m:\u001b[0m\u001b[0;34m\u001b[0m\u001b[0;34m\u001b[0m\u001b[0m\n\u001b[1;32m     40\u001b[0m         \u001b[0;32mif\u001b[0m \u001b[0misinstance\u001b[0m\u001b[0;34m(\u001b[0m\u001b[0mk\u001b[0m\u001b[0;34m,\u001b[0m \u001b[0;34m(\u001b[0m\u001b[0mstr\u001b[0m\u001b[0;34m,\u001b[0m \u001b[0mNamedSplit\u001b[0m\u001b[0;34m)\u001b[0m\u001b[0;34m)\u001b[0m \u001b[0;32mor\u001b[0m \u001b[0mlen\u001b[0m\u001b[0;34m(\u001b[0m\u001b[0mself\u001b[0m\u001b[0;34m)\u001b[0m \u001b[0;34m==\u001b[0m \u001b[0;36m0\u001b[0m\u001b[0;34m:\u001b[0m\u001b[0;34m\u001b[0m\u001b[0;34m\u001b[0m\u001b[0m\n\u001b[0;32m---> 41\u001b[0;31m             \u001b[0;32mreturn\u001b[0m \u001b[0msuper\u001b[0m\u001b[0;34m(\u001b[0m\u001b[0;34m)\u001b[0m\u001b[0;34m.\u001b[0m\u001b[0m__getitem__\u001b[0m\u001b[0;34m(\u001b[0m\u001b[0mk\u001b[0m\u001b[0;34m)\u001b[0m\u001b[0;34m\u001b[0m\u001b[0;34m\u001b[0m\u001b[0m\n\u001b[0m\u001b[1;32m     42\u001b[0m         \u001b[0;32melse\u001b[0m\u001b[0;34m:\u001b[0m\u001b[0;34m\u001b[0m\u001b[0;34m\u001b[0m\u001b[0m\n\u001b[1;32m     43\u001b[0m             available_suggested_splits = [\n",
      "\u001b[0;31mKeyError\u001b[0m: 'array'"
     ]
    }
   ],
   "source": [
    "dataset['array'][0]['path']"
   ]
  },
  {
   "cell_type": "code",
   "execution_count": null,
   "metadata": {},
   "outputs": [],
   "source": [
    "dataset['array'][0]['audio'][:30]"
   ]
  },
  {
   "cell_type": "code",
   "execution_count": null,
   "metadata": {},
   "outputs": [],
   "source": []
  },
  {
   "cell_type": "code",
   "execution_count": null,
   "metadata": {},
   "outputs": [],
   "source": [
    "dataset['text'][8]"
   ]
  },
  {
   "cell_type": "code",
   "execution_count": null,
   "metadata": {},
   "outputs": [],
   "source": [
    "k = dataset['array'][0]"
   ]
  },
  {
   "cell_type": "code",
   "execution_count": 13,
   "metadata": {},
   "outputs": [
    {
     "ename": "NameError",
     "evalue": "name 'k' is not defined",
     "output_type": "error",
     "traceback": [
      "\u001b[0;31m---------------------------------------------------------------------------\u001b[0m",
      "\u001b[0;31mNameError\u001b[0m                                 Traceback (most recent call last)",
      "\u001b[0;32m/tmp/ipykernel_18/3448554576.py\u001b[0m in \u001b[0;36m<module>\u001b[0;34m\u001b[0m\n\u001b[0;32m----> 1\u001b[0;31m \u001b[0mk\u001b[0m\u001b[0;34m[\u001b[0m\u001b[0;34m:\u001b[0m\u001b[0;36m20\u001b[0m\u001b[0;34m]\u001b[0m\u001b[0;34m\u001b[0m\u001b[0;34m\u001b[0m\u001b[0m\n\u001b[0m",
      "\u001b[0;31mNameError\u001b[0m: name 'k' is not defined"
     ]
    }
   ],
   "source": [
    "k[:20]"
   ]
  },
  {
   "cell_type": "code",
   "execution_count": 219,
   "metadata": {},
   "outputs": [
    {
     "data": {
      "text/plain": [
       "list"
      ]
     },
     "execution_count": 219,
     "metadata": {},
     "output_type": "execute_result"
    }
   ],
   "source": [
    "type(k)"
   ]
  },
  {
   "cell_type": "code",
   "execution_count": 220,
   "metadata": {},
   "outputs": [
    {
     "data": {
      "text/plain": [
       "97357"
      ]
     },
     "execution_count": 220,
     "metadata": {},
     "output_type": "execute_result"
    }
   ],
   "source": [
    "len(k)"
   ]
  },
  {
   "cell_type": "code",
   "execution_count": 221,
   "metadata": {},
   "outputs": [],
   "source": [
    "kk = np.array(k, dtype='float32')"
   ]
  },
  {
   "cell_type": "code",
   "execution_count": 222,
   "metadata": {},
   "outputs": [
    {
     "data": {
      "text/plain": [
       "array([-0.00091553, -0.00073242, -0.0005188 , ..., -0.00949097,\n",
       "       -0.00546265, -0.00143433], dtype=float32)"
      ]
     },
     "execution_count": 222,
     "metadata": {},
     "output_type": "execute_result"
    }
   ],
   "source": [
    "kk"
   ]
  },
  {
   "cell_type": "code",
   "execution_count": null,
   "metadata": {},
   "outputs": [],
   "source": []
  },
  {
   "cell_type": "code",
   "execution_count": null,
   "metadata": {},
   "outputs": [],
   "source": []
  },
  {
   "cell_type": "code",
   "execution_count": null,
   "metadata": {},
   "outputs": [],
   "source": []
  }
 ],
 "metadata": {
  "interpreter": {
   "hash": "4781cee745610882f00d5db22f39b386fb81108dfde6c702591e5891d201f40d"
  },
  "kernelspec": {
   "display_name": "Python 3 (ipykernel)",
   "language": "python",
   "name": "python3"
  },
  "language_info": {
   "codemirror_mode": {
    "name": "ipython",
    "version": 3
   },
   "file_extension": ".py",
   "mimetype": "text/x-python",
   "name": "python",
   "nbconvert_exporter": "python",
   "pygments_lexer": "ipython3",
   "version": "3.7.11"
  }
 },
 "nbformat": 4,
 "nbformat_minor": 4
}
