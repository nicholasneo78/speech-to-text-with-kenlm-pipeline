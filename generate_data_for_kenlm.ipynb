{
 "cells": [
  {
   "cell_type": "code",
   "execution_count": 1,
   "id": "818464d5-4b9b-413d-b8b9-6311674b9fdc",
   "metadata": {},
   "outputs": [],
   "source": [
    "import numpy as np\n",
    "import pandas as pd\n",
    "import nltk\n",
    "import pickle\n",
    "from tqdm import tqdm"
   ]
  },
  {
   "cell_type": "code",
   "execution_count": 2,
   "id": "eab41a58-8fad-453b-bc27-abd1a9d95500",
   "metadata": {},
   "outputs": [],
   "source": [
    "# load pkl file to obtain the data - only load the train and dev data NOT the test data\n",
    "\n",
    "with open('./pkl/magister_data_flac_16000_train.pkl', 'rb') as f:\n",
    "    df_train = pickle.load(f)\n",
    "\n",
    "with open('./pkl/magister_data_flac_16000_dev.pkl', 'rb') as f:\n",
    "    df_dev = pickle.load(f)"
   ]
  },
  {
   "cell_type": "code",
   "execution_count": 8,
   "id": "7e9bc805-de56-4979-ad5e-272dfc281f20",
   "metadata": {},
   "outputs": [
    {
     "data": {
      "text/html": [
       "<div>\n",
       "<style scoped>\n",
       "    .dataframe tbody tr th:only-of-type {\n",
       "        vertical-align: middle;\n",
       "    }\n",
       "\n",
       "    .dataframe tbody tr th {\n",
       "        vertical-align: top;\n",
       "    }\n",
       "\n",
       "    .dataframe thead th {\n",
       "        text-align: right;\n",
       "    }\n",
       "</style>\n",
       "<table border=\"1\" class=\"dataframe\">\n",
       "  <thead>\n",
       "    <tr style=\"text-align: right;\">\n",
       "      <th></th>\n",
       "      <th>text</th>\n",
       "    </tr>\n",
       "  </thead>\n",
       "  <tbody>\n",
       "    <tr>\n",
       "      <th>0</th>\n",
       "      <td>FCS GUNNERY BROADCAST POLICY SURFACE AND AIR F...</td>\n",
       "    </tr>\n",
       "    <tr>\n",
       "      <th>1</th>\n",
       "      <td>ROGER</td>\n",
       "    </tr>\n",
       "    <tr>\n",
       "      <th>2</th>\n",
       "      <td>AGUN ENGAGE MISSILE NORTH AT TWO MILES</td>\n",
       "    </tr>\n",
       "    <tr>\n",
       "      <th>3</th>\n",
       "      <td>G P M G PROVIDE ONE BOX TWO FIVE ZERO ROUNDS L...</td>\n",
       "    </tr>\n",
       "    <tr>\n",
       "      <th>4</th>\n",
       "      <td>OOW COME LEFT ZERO TWO ZERO INCREASE ONE TWO OOW</td>\n",
       "    </tr>\n",
       "    <tr>\n",
       "      <th>...</th>\n",
       "      <td>...</td>\n",
       "    </tr>\n",
       "    <tr>\n",
       "      <th>1813</th>\n",
       "      <td>TPS PWO CHECK COPY</td>\n",
       "    </tr>\n",
       "    <tr>\n",
       "      <th>1814</th>\n",
       "      <td>AND FIRE ON PAC TARGET ZERO ZERO FOUR NINE K A...</td>\n",
       "    </tr>\n",
       "    <tr>\n",
       "      <th>1815</th>\n",
       "      <td># OW PWO COME LEFT TWO NINE ZERO WEPS THIS PWO...</td>\n",
       "    </tr>\n",
       "    <tr>\n",
       "      <th>1816</th>\n",
       "      <td># ALL STATION # THIS PWO MISSIONS BRIEF AS FOL...</td>\n",
       "    </tr>\n",
       "    <tr>\n",
       "      <th>1817</th>\n",
       "      <td>REQUEST PERMISSION TO PROVIDE FIVE TP ROUND CO...</td>\n",
       "    </tr>\n",
       "  </tbody>\n",
       "</table>\n",
       "<p>1818 rows × 1 columns</p>\n",
       "</div>"
      ],
      "text/plain": [
       "                                                   text\n",
       "0     FCS GUNNERY BROADCAST POLICY SURFACE AND AIR F...\n",
       "1                                                 ROGER\n",
       "2                AGUN ENGAGE MISSILE NORTH AT TWO MILES\n",
       "3     G P M G PROVIDE ONE BOX TWO FIVE ZERO ROUNDS L...\n",
       "4      OOW COME LEFT ZERO TWO ZERO INCREASE ONE TWO OOW\n",
       "...                                                 ...\n",
       "1813                                 TPS PWO CHECK COPY\n",
       "1814  AND FIRE ON PAC TARGET ZERO ZERO FOUR NINE K A...\n",
       "1815  # OW PWO COME LEFT TWO NINE ZERO WEPS THIS PWO...\n",
       "1816  # ALL STATION # THIS PWO MISSIONS BRIEF AS FOL...\n",
       "1817  REQUEST PERMISSION TO PROVIDE FIVE TP ROUND CO...\n",
       "\n",
       "[1818 rows x 1 columns]"
      ]
     },
     "execution_count": 8,
     "metadata": {},
     "output_type": "execute_result"
    }
   ],
   "source": [
    "pd.DataFrame(df_train.text)"
   ]
  },
  {
   "cell_type": "code",
   "execution_count": 9,
   "id": "8c1f8895-4463-40b4-b7d2-301304080bab",
   "metadata": {},
   "outputs": [
    {
     "data": {
      "text/html": [
       "<div>\n",
       "<style scoped>\n",
       "    .dataframe tbody tr th:only-of-type {\n",
       "        vertical-align: middle;\n",
       "    }\n",
       "\n",
       "    .dataframe tbody tr th {\n",
       "        vertical-align: top;\n",
       "    }\n",
       "\n",
       "    .dataframe thead th {\n",
       "        text-align: right;\n",
       "    }\n",
       "</style>\n",
       "<table border=\"1\" class=\"dataframe\">\n",
       "  <thead>\n",
       "    <tr style=\"text-align: right;\">\n",
       "      <th></th>\n",
       "      <th>text</th>\n",
       "    </tr>\n",
       "  </thead>\n",
       "  <tbody>\n",
       "    <tr>\n",
       "      <th>0</th>\n",
       "      <td>FOXTROT ONE DELTA THIS IS ALFA FOUR QUEBEC SHO...</td>\n",
       "    </tr>\n",
       "    <tr>\n",
       "      <th>1</th>\n",
       "      <td>FOXTROT ONE DELTA THIS IS ALFA FOUR QUEBEC SHO...</td>\n",
       "    </tr>\n",
       "    <tr>\n",
       "      <th>2</th>\n",
       "      <td>ALFA FOUR QUEBEC # POSITIONING # FOR P A C RUN...</td>\n",
       "    </tr>\n",
       "    <tr>\n",
       "      <th>3</th>\n",
       "      <td>ALL IN THIS IS PWO INTEND CONTINUES FIRING NO ...</td>\n",
       "    </tr>\n",
       "    <tr>\n",
       "      <th>4</th>\n",
       "      <td>FOXTROT ONE DELTA THIS IS ALFA FOUR QUEBEC COM...</td>\n",
       "    </tr>\n",
       "    <tr>\n",
       "      <th>...</th>\n",
       "      <td>...</td>\n",
       "    </tr>\n",
       "    <tr>\n",
       "      <th>355</th>\n",
       "      <td>WEAPS TRANSMIT F C R ALL ROUND TRAINING FREQUE...</td>\n",
       "    </tr>\n",
       "    <tr>\n",
       "      <th>356</th>\n",
       "      <td># COMMAND THIS IS BASE ON S O C CEASE IS # FOU...</td>\n",
       "    </tr>\n",
       "    <tr>\n",
       "      <th>357</th>\n",
       "      <td>RESOLVE # ID AND INTENTION OF # UNKNOWN # STRE...</td>\n",
       "    </tr>\n",
       "    <tr>\n",
       "      <th>358</th>\n",
       "      <td>I MAKE # U A ONE SEVEN FOUR # POSHOS U A ONE S...</td>\n",
       "    </tr>\n",
       "    <tr>\n",
       "      <th>359</th>\n",
       "      <td>WEAPS # PWO PLOT P A C F P ONE NAUTICAL MILES ...</td>\n",
       "    </tr>\n",
       "  </tbody>\n",
       "</table>\n",
       "<p>360 rows × 1 columns</p>\n",
       "</div>"
      ],
      "text/plain": [
       "                                                  text\n",
       "0    FOXTROT ONE DELTA THIS IS ALFA FOUR QUEBEC SHO...\n",
       "1    FOXTROT ONE DELTA THIS IS ALFA FOUR QUEBEC SHO...\n",
       "2    ALFA FOUR QUEBEC # POSITIONING # FOR P A C RUN...\n",
       "3    ALL IN THIS IS PWO INTEND CONTINUES FIRING NO ...\n",
       "4    FOXTROT ONE DELTA THIS IS ALFA FOUR QUEBEC COM...\n",
       "..                                                 ...\n",
       "355  WEAPS TRANSMIT F C R ALL ROUND TRAINING FREQUE...\n",
       "356  # COMMAND THIS IS BASE ON S O C CEASE IS # FOU...\n",
       "357  RESOLVE # ID AND INTENTION OF # UNKNOWN # STRE...\n",
       "358  I MAKE # U A ONE SEVEN FOUR # POSHOS U A ONE S...\n",
       "359  WEAPS # PWO PLOT P A C F P ONE NAUTICAL MILES ...\n",
       "\n",
       "[360 rows x 1 columns]"
      ]
     },
     "execution_count": 9,
     "metadata": {},
     "output_type": "execute_result"
    }
   ],
   "source": [
    "pd.DataFrame(df_dev.text)"
   ]
  },
  {
   "cell_type": "code",
   "execution_count": null,
   "id": "07bd6df5-2315-42c7-80c1-386b62e7f770",
   "metadata": {},
   "outputs": [],
   "source": []
  },
  {
   "cell_type": "code",
   "execution_count": null,
   "id": "b80972eb-9e1e-440f-a27d-79ab6da1ddc7",
   "metadata": {},
   "outputs": [],
   "source": []
  },
  {
   "cell_type": "code",
   "execution_count": 11,
   "id": "ed23ae23-cb92-42da-921e-f6748783be1f",
   "metadata": {},
   "outputs": [
    {
     "data": {
      "text/html": [
       "<div>\n",
       "<style scoped>\n",
       "    .dataframe tbody tr th:only-of-type {\n",
       "        vertical-align: middle;\n",
       "    }\n",
       "\n",
       "    .dataframe tbody tr th {\n",
       "        vertical-align: top;\n",
       "    }\n",
       "\n",
       "    .dataframe thead th {\n",
       "        text-align: right;\n",
       "    }\n",
       "</style>\n",
       "<table border=\"1\" class=\"dataframe\">\n",
       "  <thead>\n",
       "    <tr style=\"text-align: right;\">\n",
       "      <th></th>\n",
       "      <th>text</th>\n",
       "    </tr>\n",
       "  </thead>\n",
       "  <tbody>\n",
       "    <tr>\n",
       "      <th>0</th>\n",
       "      <td>FCS GUNNERY BROADCAST POLICY SURFACE AND AIR F...</td>\n",
       "    </tr>\n",
       "    <tr>\n",
       "      <th>1</th>\n",
       "      <td>ROGER</td>\n",
       "    </tr>\n",
       "    <tr>\n",
       "      <th>2</th>\n",
       "      <td>AGUN ENGAGE MISSILE NORTH AT TWO MILES</td>\n",
       "    </tr>\n",
       "    <tr>\n",
       "      <th>3</th>\n",
       "      <td>G P M G PROVIDE ONE BOX TWO FIVE ZERO ROUNDS L...</td>\n",
       "    </tr>\n",
       "    <tr>\n",
       "      <th>4</th>\n",
       "      <td>OOW COME LEFT ZERO TWO ZERO INCREASE ONE TWO OOW</td>\n",
       "    </tr>\n",
       "    <tr>\n",
       "      <th>...</th>\n",
       "      <td>...</td>\n",
       "    </tr>\n",
       "    <tr>\n",
       "      <th>2173</th>\n",
       "      <td>WEAPS TRANSMIT F C R ALL ROUND TRAINING FREQUE...</td>\n",
       "    </tr>\n",
       "    <tr>\n",
       "      <th>2174</th>\n",
       "      <td># COMMAND THIS IS BASE ON S O C CEASE IS # FOU...</td>\n",
       "    </tr>\n",
       "    <tr>\n",
       "      <th>2175</th>\n",
       "      <td>RESOLVE # ID AND INTENTION OF # UNKNOWN # STRE...</td>\n",
       "    </tr>\n",
       "    <tr>\n",
       "      <th>2176</th>\n",
       "      <td>I MAKE # U A ONE SEVEN FOUR # POSHOS U A ONE S...</td>\n",
       "    </tr>\n",
       "    <tr>\n",
       "      <th>2177</th>\n",
       "      <td>WEAPS # PWO PLOT P A C F P ONE NAUTICAL MILES ...</td>\n",
       "    </tr>\n",
       "  </tbody>\n",
       "</table>\n",
       "<p>2178 rows × 1 columns</p>\n",
       "</div>"
      ],
      "text/plain": [
       "                                                   text\n",
       "0     FCS GUNNERY BROADCAST POLICY SURFACE AND AIR F...\n",
       "1                                                 ROGER\n",
       "2                AGUN ENGAGE MISSILE NORTH AT TWO MILES\n",
       "3     G P M G PROVIDE ONE BOX TWO FIVE ZERO ROUNDS L...\n",
       "4      OOW COME LEFT ZERO TWO ZERO INCREASE ONE TWO OOW\n",
       "...                                                 ...\n",
       "2173  WEAPS TRANSMIT F C R ALL ROUND TRAINING FREQUE...\n",
       "2174  # COMMAND THIS IS BASE ON S O C CEASE IS # FOU...\n",
       "2175  RESOLVE # ID AND INTENTION OF # UNKNOWN # STRE...\n",
       "2176  I MAKE # U A ONE SEVEN FOUR # POSHOS U A ONE S...\n",
       "2177  WEAPS # PWO PLOT P A C F P ONE NAUTICAL MILES ...\n",
       "\n",
       "[2178 rows x 1 columns]"
      ]
     },
     "execution_count": 11,
     "metadata": {},
     "output_type": "execute_result"
    }
   ],
   "source": [
    "# combine the train and dev set to prep the creation of the language model\n",
    "df_for_building_lm = pd.concat([pd.DataFrame(df_train.text), pd.DataFrame(df_dev.text)]).reset_index(drop=True)\n",
    "df_for_building_lm"
   ]
  },
  {
   "cell_type": "code",
   "execution_count": 12,
   "id": "a63ce41c-8720-407e-add9-421d17b88b95",
   "metadata": {},
   "outputs": [
    {
     "data": {
      "text/plain": [
       "'FCS GUNNERY BROADCAST POLICY SURFACE AND AIR F C R TRANSMIT WHEN ORDERED AGUN PROVIDE MODE ALPHA LOADING BRAVO GUN PROVIDE'"
      ]
     },
     "execution_count": 12,
     "metadata": {},
     "output_type": "execute_result"
    }
   ],
   "source": [
    "df_for_building_lm.text[0]"
   ]
  },
  {
   "cell_type": "code",
   "execution_count": null,
   "id": "57fae2e1-d369-4c02-8cba-a91860847e66",
   "metadata": {},
   "outputs": [],
   "source": []
  },
  {
   "cell_type": "code",
   "execution_count": 27,
   "id": "ffa9636b-c6c0-4110-8d64-69efb0245885",
   "metadata": {},
   "outputs": [],
   "source": [
    "# remove the '#' (filler words) as it is not useful in building the language model and write the annotations into a .txt file\n",
    "with open('lm/lm_model_prep.txt', 'w+') as f:\n",
    "    for idx, text in enumerate(df_for_building_lm.text):\n",
    "        f.write(f\"{text.replace('# ', '').replace('#', '')}\\n\")"
   ]
  },
  {
   "cell_type": "code",
   "execution_count": null,
   "id": "0fc46a7f-c80a-43e5-af4a-664cb045843a",
   "metadata": {},
   "outputs": [],
   "source": []
  },
  {
   "cell_type": "code",
   "execution_count": null,
   "id": "60b0cda1-9a72-41e2-af34-224048dd79c7",
   "metadata": {},
   "outputs": [],
   "source": []
  }
 ],
 "metadata": {
  "kernelspec": {
   "display_name": "Python 3 (ipykernel)",
   "language": "python",
   "name": "python3"
  },
  "language_info": {
   "codemirror_mode": {
    "name": "ipython",
    "version": 3
   },
   "file_extension": ".py",
   "mimetype": "text/x-python",
   "name": "python",
   "nbconvert_exporter": "python",
   "pygments_lexer": "ipython3",
   "version": "3.7.11"
  }
 },
 "nbformat": 4,
 "nbformat_minor": 5
}
